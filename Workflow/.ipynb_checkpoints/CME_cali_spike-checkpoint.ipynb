{
 "cells": [
  {
   "cell_type": "code",
   "execution_count": 317,
   "metadata": {},
   "outputs": [],
   "source": [
    "# def forward(a):\n",
    "#     return np.log(a) * 10 + 300\n",
    "\n",
    "# def inverse(a):\n",
    "#     return np.exp((a - 300) / 10)\n",
    "import math\n",
    "def forward(a):\n",
    "    return np.log(a) / np.log(1.1)\n",
    "\n",
    "def inverse(a):\n",
    "    return np.power(1.1, a)\n",
    "\n"
   ]
  },
  {
   "cell_type": "code",
   "execution_count": 1,
   "metadata": {},
   "outputs": [
    {
     "data": {
      "text/html": [
       "<style>.container { width:100% !important; }</style>"
      ],
      "text/plain": [
       "<IPython.core.display.HTML object>"
      ]
     },
     "metadata": {},
     "output_type": "display_data"
    }
   ],
   "source": [
    "from IPython.core.display import display, HTML\n",
    "display(HTML(\"<style>.container { width:100% !important; }</style>\"))"
   ]
  },
  {
   "cell_type": "code",
   "execution_count": 2,
   "metadata": {},
   "outputs": [],
   "source": [
    "import os\n",
    "import json\n",
    "import pandas as pd\n",
    "import matplotlib.pyplot as plt\n",
    "import numpy as np\n",
    "from matplotlib import cm\n",
    "import datetime\n",
    "import json\n",
    "import pyDOE\n",
    "from smt.sampling_methods import LHS\n",
    "import scipy.stats as sc\n",
    "from itertools import chain\n",
    "from scipy.stats import kurtosis, skew, ks_2samp\n",
    "from datetime import timezone\n",
    "from scipy.signal import find_peaks\n",
    "from scipy.stats import kurtosis, skew, ks_2samp\n",
    "from statsmodels.tsa.stattools import acf\n",
    "turquoise_datetime_format = \"%d-%b-%Y %H:%M:%S.%f\""
   ]
  },
  {
   "cell_type": "code",
   "execution_count": 3,
   "metadata": {},
   "outputs": [],
   "source": [
    "\n",
    "tick_size = 0.25\n",
    "datestr = '20100506'\n",
    "start = pd.to_datetime(datestr + ' 08:00:00')\n",
    "end = pd.to_datetime(datestr + ' 12:30:00')"
   ]
  },
  {
   "cell_type": "code",
   "execution_count": 4,
   "metadata": {},
   "outputs": [],
   "source": [
    "def get_synthetic_market_data(data_path, tick_size=.02):\n",
    "    df_lob_l1 = pd.read_csv('{0}/lob_l1.csv'.format(data_path)).set_index('time')\n",
    "    df_lob_l1.index = pd.to_datetime(df_lob_l1.index, format=turquoise_datetime_format)\n",
    "\n",
    "    l1B = df_lob_l1[df_lob_l1['side']  == 'B']\n",
    "    l1S = df_lob_l1[df_lob_l1['side']  == 'S']\n",
    "    \n",
    "    mp = .5 * l1B['prc'] + .5 * l1S['prc']\n",
    "    spread = l1S['prc'] - l1B['prc']\n",
    "    spread = np.round(spread.fillna(method='ffill').fillna(method='bfill') / tick_size).dropna().astype(int)\n",
    "    \n",
    "    orders = pd.read_csv('{0}/orders.csv'.format(data_path)).set_index('time')\n",
    "    orders.index = pd.to_datetime(orders.index, format=turquoise_datetime_format)\n",
    "    \n",
    "    b0 = l1B['prc'].shift(1)\n",
    "    a0 = l1S['prc'].shift(1)\n",
    "    depth_b = np.round((b0.reindex(orders.index) - orders['prc']) / tick_size)\n",
    "    depth_a = np.round((orders['prc'] - a0.reindex(orders.index)) / tick_size)\n",
    "\n",
    "    orders.loc[:,'depth'] = ((orders['side'] == 'B') * depth_b + (orders['side'] == 'S') * depth_a).values\n",
    "    \n",
    "    market_orders = orders[orders['OrdType'] == 'M'].copy()\n",
    "    \n",
    "    trades = pd.read_csv('{0}/trades.csv'.format(data_path)).set_index('time')\n",
    "    trades.index = pd.to_datetime(trades.index, format=turquoise_datetime_format)\n",
    "    \n",
    "    pos = pd.read_csv('{0}/agentPosition.csv'.format(data_path)).set_index('time')\n",
    "    pos.index = pd.to_datetime(pos.index, format=turquoise_datetime_format)\n",
    "    \n",
    "    md = {'l1B': l1B, 'l1S': l1S, 'mp': mp, 'spread': spread, 'orders': orders, 'trades': trades, 'a0': a0, 'b0': b0, 'market_orders': market_orders, 'lob_l1': df_lob_l1, 'pos': pos}\n",
    "    return md\n",
    "\n",
    "def get_fv_mv_value(data_path):\n",
    "    fv = pd.read_csv('{0}/fundamental_value.csv'.format(data_path)).set_index('timestamp')\n",
    "    fv.index = pd.to_datetime(fv.index, format=turquoise_datetime_format).floor('S')\n",
    "    mv = pd.read_csv('{0}/momentum_value.csv'.format(data_path)).set_index('timestamp')\n",
    "    mv.index = pd.to_datetime(mv.index, format=turquoise_datetime_format).floor('S')\n",
    "    return fv.squeeze(), mv.squeeze()"
   ]
  },
  {
   "cell_type": "code",
   "execution_count": 9,
   "metadata": {},
   "outputs": [
    {
     "name": "stdout",
     "output_type": "stream",
     "text": [
      "6\n",
      "1 :  299\n",
      "2 :  79\n",
      "3 :  26\n",
      "4 :  9\n",
      "5 :  2\n",
      "1 :  326\n",
      "2 :  58\n",
      "3 :  30\n",
      "4 :  4\n",
      "5 :  3\n",
      "1 :  277\n",
      "2 :  57\n",
      "3 :  7\n",
      "4 :  2\n",
      "5 :  1\n",
      "1 :  344\n",
      "2 :  81\n",
      "3 :  32\n",
      "4 :  15\n",
      "5 :  2\n",
      "1 :  288\n",
      "2 :  73\n",
      "3 :  17\n",
      "4 :  1\n",
      "5 :  1\n",
      "1 :  363\n",
      "2 :  92\n",
      "3 :  17\n",
      "4 :  2\n",
      "5 :  0\n"
     ]
    }
   ],
   "source": [
    "run_list = sorted(os.listdir(\"D:/projects/simulator/Workflow/CME/Results\"))\n",
    "run_list = [x for x in run_list if x[0] == 'r']\n",
    "print(len(run_list))\n",
    "record = {str(i): 0 for i in range(1, 6)}\n",
    "for sim in run_list:\n",
    "    data_path = 'CME/Results/' + sim\n",
    "    md = get_synthetic_market_data(data_path, tick_size=tick_size)\n",
    "    raw_mp = md['mp']\n",
    "    raw_mp = raw_mp.dropna().loc[start:end]\n",
    "    tmp = raw_mp.resample('1S').last().fillna(method='ffill').dropna()\n",
    "    tmp_min = raw_mp.resample('1min').last().fillna(method='ffill').dropna()\n",
    "    close = tmp.bfill().values\n",
    "    s_ret = close[1:] / close[:-1] - 1\n",
    "    close_min = tmp_min.bfill().values\n",
    "    s_ret_min = close_min[1:] / close_min[:-1] - 1\n",
    "\n",
    "    # standard deviation\n",
    "    reference_prc = np.mean(close)\n",
    "    ret_std = np.std(s_ret)\n",
    "    ret_std_min = np.std(s_ret_min)\n",
    "    std_prc = reference_prc * ret_std_min\n",
    "    std_dict = {str(i): i * std_prc for i in range(1, 6)}\n",
    "\n",
    "    for i in range(1, 6):\n",
    "        prominence = std_dict[str(i)]\n",
    "        wlen = 600\n",
    "        width = (None, 600)\n",
    "        plateau_size = (None, None)\n",
    "        total = 0\n",
    "        peaks, infor = find_peaks(close, prominence=prominence, wlen=wlen, plateau_size=plateau_size, width=width, rel_height=1)\n",
    "        total += len(peaks)\n",
    "        peaks, infor = find_peaks(-1*close, prominence=prominence, wlen=wlen, plateau_size=plateau_size, width=width, rel_height=1)\n",
    "        total += len(peaks)\n",
    "        print(i, \": \", total)\n",
    "        record[str(i)] += total\n",
    "\n",
    "for key, value in record.items():\n",
    "    record[key] = value / len(run_list)"
   ]
  },
  {
   "cell_type": "code",
   "execution_count": 8,
   "metadata": {},
   "outputs": [
    {
     "data": {
      "text/plain": [
       "{'1': 544.5,\n",
       " '2': 129.33333333333334,\n",
       " '3': 34.666666666666664,\n",
       " '4': 7.333333333333333,\n",
       " '5': 0.4166666666666667}"
      ]
     },
     "execution_count": 8,
     "metadata": {},
     "output_type": "execute_result"
    }
   ],
   "source": [
    "record"
   ]
  },
  {
   "cell_type": "code",
   "execution_count": null,
   "metadata": {},
   "outputs": [],
   "source": []
  },
  {
   "cell_type": "markdown",
   "metadata": {},
   "source": []
  },
  {
   "cell_type": "code",
   "execution_count": 12,
   "metadata": {},
   "outputs": [],
   "source": [
    "from CMECalibration.calibration_utils import *"
   ]
  },
  {
   "cell_type": "code",
   "execution_count": 15,
   "metadata": {},
   "outputs": [],
   "source": [
    "with open('CME/model_params.json', 'r', encoding='utf-8') as f:\n",
    "    model_params = json.load(f)\n",
    "    f.close()"
   ]
  },
  {
   "cell_type": "code",
   "execution_count": null,
   "metadata": {},
   "outputs": [],
   "source": []
  },
  {
   "cell_type": "code",
   "execution_count": 252,
   "metadata": {
    "scrolled": true
   },
   "outputs": [
    {
     "name": "stdout",
     "output_type": "stream",
     "text": [
      "2022-05-09 11:42:52.654068\n",
      "300\n",
      "{'1': 461.0208333333333, '2': 104.08333333333333, '3': 29.8125, '4': 7.604166666666667, '5': 1.4375}\n",
      "{'1': 461.0208333333333, '2': 104.08333333333333, '3': 29.8125, '4': 7.604166666666667, '5': 1.4375}\n",
      "------------------------------------------\n",
      "500\n",
      "{'1': 500.1666666666667, '2': 112.58333333333333, '3': 33.6875, '4': 7.958333333333333, '5': 1.2291666666666667}\n",
      "{'1': 500.1666666666667, '2': 112.58333333333333, '3': 33.6875, '4': 7.958333333333333, '5': 1.2291666666666667}\n",
      "------------------------------------------\n",
      "700\n",
      "{'1': 518.1041666666666, '2': 122.91666666666667, '3': 37.5625, '4': 8.729166666666666, '5': 1.375}\n",
      "{'1': 518.1041666666666, '2': 122.91666666666667, '3': 37.5625, '4': 8.729166666666666, '5': 1.375}\n",
      "------------------------------------------\n",
      "900\n",
      "{'1': 578.375, '2': 122.70833333333333, '3': 36.125, '4': 9.708333333333334, '5': 1.9583333333333333}\n",
      "{'1': 578.375, '2': 122.70833333333333, '3': 36.125, '4': 9.708333333333334, '5': 1.9583333333333333}\n",
      "------------------------------------------\n",
      "1100\n",
      "{'1': 568.1041666666666, '2': 121.79166666666667, '3': 35.645833333333336, '4': 8.729166666666666, '5': 1.5208333333333333}\n",
      "{'1': 568.1041666666666, '2': 121.79166666666667, '3': 35.645833333333336, '4': 8.729166666666666, '5': 1.5208333333333333}\n",
      "------------------------------------------\n",
      "1300\n",
      "{'1': 597.75, '2': 122.16666666666667, '3': 36.145833333333336, '4': 8.416666666666666, '5': 1.4583333333333333}\n",
      "{'1': 597.75, '2': 122.16666666666667, '3': 36.145833333333336, '4': 8.416666666666666, '5': 1.4583333333333333}\n",
      "------------------------------------------\n",
      "1500\n",
      "{'1': 577.7083333333334, '2': 118.45833333333333, '3': 35.125, '4': 7.333333333333333, '5': 1.4166666666666667}\n",
      "{'1': 577.7083333333334, '2': 118.45833333333333, '3': 35.125, '4': 7.333333333333333, '5': 1.4166666666666667}\n",
      "------------------------------------------\n",
      "1700\n",
      "{'1': 561.3333333333334, '2': 116.16666666666667, '3': 34.875, '4': 9.333333333333334, '5': 1.5208333333333333}\n",
      "{'1': 561.3333333333334, '2': 116.16666666666667, '3': 34.875, '4': 9.333333333333334, '5': 1.5208333333333333}\n",
      "------------------------------------------\n",
      "1900\n",
      "{'1': 542.2708333333334, '2': 112.3125, '3': 33.166666666666664, '4': 8.125, '5': 1.5833333333333333}\n",
      "{'1': 542.2708333333334, '2': 112.3125, '3': 33.166666666666664, '4': 8.125, '5': 1.5833333333333333}\n",
      "------------------------------------------\n",
      "2100\n",
      "{'1': 505.4583333333333, '2': 105.16666666666667, '3': 31.5, '4': 7.666666666666667, '5': 0.9791666666666666}\n",
      "{'1': 505.4583333333333, '2': 105.16666666666667, '3': 31.5, '4': 7.666666666666667, '5': 0.9791666666666666}\n",
      "------------------------------------------\n",
      "2300\n",
      "{'1': 461.9375, '2': 102.02083333333333, '3': 30.354166666666668, '4': 6.625, '5': 1.1458333333333333}\n",
      "{'1': 461.9375, '2': 102.02083333333333, '3': 30.354166666666668, '4': 6.625, '5': 1.1458333333333333}\n",
      "------------------------------------------\n",
      "2500\n",
      "{'1': 447.4791666666667, '2': 100.91666666666667, '3': 29.541666666666668, '4': 7.25, '5': 1.1875}\n",
      "{'1': 447.4791666666667, '2': 100.91666666666667, '3': 29.541666666666668, '4': 7.25, '5': 1.1875}\n",
      "------------------------------------------\n",
      "2700\n",
      "{'1': 415.6666666666667, '2': 95.83333333333333, '3': 28.229166666666668, '4': 6.291666666666667, '5': 0.8333333333333334}\n",
      "{'1': 415.6666666666667, '2': 95.83333333333333, '3': 28.229166666666668, '4': 6.291666666666667, '5': 0.8333333333333334}\n",
      "------------------------------------------\n",
      "2900\n",
      "{'1': 381.625, '2': 91.89583333333333, '3': 26.208333333333332, '4': 5.479166666666667, '5': 0.7916666666666666}\n",
      "{'1': 381.625, '2': 91.89583333333333, '3': 26.208333333333332, '4': 5.479166666666667, '5': 0.7916666666666666}\n",
      "------------------------------------------\n",
      "3100\n",
      "{'1': 370.2083333333333, '2': 86.39583333333333, '3': 24.166666666666668, '4': 4.916666666666667, '5': 0.9791666666666666}\n",
      "{'1': 370.2083333333333, '2': 86.39583333333333, '3': 24.166666666666668, '4': 4.916666666666667, '5': 0.9791666666666666}\n",
      "------------------------------------------\n",
      "3300\n",
      "{'1': 367.5833333333333, '2': 87.02083333333333, '3': 25.979166666666668, '4': 6.0, '5': 0.8333333333333334}\n",
      "{'1': 367.5833333333333, '2': 87.02083333333333, '3': 25.979166666666668, '4': 6.0, '5': 0.8333333333333334}\n",
      "------------------------------------------\n",
      "3500\n",
      "{'1': 352.0416666666667, '2': 86.10416666666667, '3': 24.479166666666668, '4': 5.625, '5': 0.9583333333333334}\n",
      "{'1': 352.0416666666667, '2': 86.10416666666667, '3': 24.479166666666668, '4': 5.625, '5': 0.9583333333333334}\n",
      "------------------------------------------\n",
      "3700\n",
      "{'1': 339.3958333333333, '2': 82.54166666666667, '3': 24.979166666666668, '4': 5.583333333333333, '5': 0.75}\n",
      "{'1': 339.3958333333333, '2': 82.54166666666667, '3': 24.979166666666668, '4': 5.583333333333333, '5': 0.75}\n",
      "------------------------------------------\n",
      "3900\n",
      "{'1': 326.25, '2': 79.60416666666667, '3': 21.333333333333332, '4': 4.541666666666667, '5': 0.7708333333333334}\n",
      "{'1': 326.25, '2': 79.60416666666667, '3': 21.333333333333332, '4': 4.541666666666667, '5': 0.7708333333333334}\n",
      "------------------------------------------\n",
      "4100\n",
      "{'1': 322.3333333333333, '2': 80.47916666666667, '3': 22.0625, '4': 5.3125, '5': 0.7916666666666666}\n",
      "{'1': 322.3333333333333, '2': 80.47916666666667, '3': 22.0625, '4': 5.3125, '5': 0.7916666666666666}\n",
      "------------------------------------------\n",
      "4300\n",
      "{'1': 337.2291666666667, '2': 87.41666666666667, '3': 25.6875, '4': 6.708333333333333, '5': 1.0208333333333333}\n",
      "{'1': 337.2291666666667, '2': 87.41666666666667, '3': 25.6875, '4': 6.708333333333333, '5': 1.0208333333333333}\n",
      "------------------------------------------\n",
      "4500\n",
      "{'1': 299.0416666666667, '2': 74.58333333333333, '3': 19.375, '4': 4.541666666666667, '5': 0.5625}\n",
      "{'1': 299.0416666666667, '2': 74.58333333333333, '3': 19.375, '4': 4.541666666666667, '5': 0.5625}\n",
      "------------------------------------------\n",
      "4700\n",
      "{'1': 297.4375, '2': 74.66666666666667, '3': 20.958333333333332, '4': 3.9791666666666665, '5': 0.75}\n",
      "{'1': 297.4375, '2': 74.66666666666667, '3': 20.958333333333332, '4': 3.9791666666666665, '5': 0.75}\n",
      "------------------------------------------\n",
      "4900\n",
      "{'1': 293.7708333333333, '2': 75.22916666666667, '3': 20.083333333333332, '4': 3.8958333333333335, '5': 0.7916666666666666}\n",
      "{'1': 293.7708333333333, '2': 75.22916666666667, '3': 20.083333333333332, '4': 3.8958333333333335, '5': 0.7916666666666666}\n",
      "------------------------------------------\n",
      "5100\n",
      "{'1': 283.8333333333333, '2': 70.4375, '3': 19.3125, '4': 4.729166666666667, '5': 0.8541666666666666}\n",
      "{'1': 283.8333333333333, '2': 70.4375, '3': 19.3125, '4': 4.729166666666667, '5': 0.8541666666666666}\n",
      "------------------------------------------\n",
      "5300\n",
      "{'1': 280.3125, '2': 67.70833333333333, '3': 18.791666666666668, '4': 3.875, '5': 0.4375}\n",
      "{'1': 280.3125, '2': 67.70833333333333, '3': 18.791666666666668, '4': 3.875, '5': 0.4375}\n",
      "------------------------------------------\n",
      "5500\n",
      "{'1': 289.5833333333333, '2': 73.04166666666667, '3': 19.5625, '4': 3.7083333333333335, '5': 0.625}\n",
      "{'1': 289.5833333333333, '2': 73.04166666666667, '3': 19.5625, '4': 3.7083333333333335, '5': 0.625}\n",
      "------------------------------------------\n",
      "2022-05-09 15:03:52.276087\n"
     ]
    }
   ],
   "source": [
    "# Mini flash crash analysis, number of occurrence.\n",
    "from datetime import datetime\n",
    "print(datetime.now())\n",
    "\n",
    "limit_x_list = np.arange(300, 5501, 200).tolist()\n",
    "limit_y_list = []\n",
    "limit_q_list = []\n",
    "for limit in limit_x_list:\n",
    "    print(limit)\n",
    "    model_params['MM_params']['mm_pos_limit'] = limit\n",
    "    save_target_params(model_params, save_path='CME/model_params.json')\n",
    "    flag = run_simulation()\n",
    "    assert flag == 0, \"Error when running simulation!\"\n",
    "    \n",
    "    run_list = sorted(os.listdir(\"D:/projects/simulator/Workflow/CME/Results\"))\n",
    "    run_list = [x for x in run_list if x[0] == 'r']\n",
    "    # print(len(run_list))\n",
    "    record = {str(i): 0 for i in range(1, 6)}\n",
    "    \n",
    "    detailed_record = {str(i): [] for i in range(1, 6)}\n",
    "    for sim in run_list:\n",
    "        data_path = 'CME/Results/' + sim\n",
    "        md = get_synthetic_market_data(data_path, tick_size=tick_size)\n",
    "        raw_mp = md['mp']\n",
    "        raw_mp = raw_mp.dropna().loc[start:end]\n",
    "        tmp = raw_mp.resample('1S').last().fillna(method='ffill').dropna()\n",
    "        tmp_min = raw_mp.resample('1min').last().fillna(method='ffill').dropna()\n",
    "        close = tmp.bfill().values\n",
    "        s_ret = close[1:] / close[:-1] - 1\n",
    "        close_min = tmp_min.bfill().values\n",
    "        s_ret_min = close_min[1:] / close_min[:-1] - 1\n",
    "\n",
    "        # standard deviation\n",
    "        reference_prc = np.mean(close)\n",
    "        ret_std = np.std(s_ret)\n",
    "        ret_std_min = np.std(s_ret_min)\n",
    "        std_prc = reference_prc * ret_std_min\n",
    "        std_dict = {str(i): i * std_prc for i in range(1, 6)}\n",
    "\n",
    "        for i in range(1, 6):\n",
    "            prominence = std_dict[str(i)]\n",
    "            wlen = 600\n",
    "            width = (None, 600)\n",
    "            plateau_size = (None, None)\n",
    "            total = 0\n",
    "            peaks, infor = find_peaks(close, prominence=prominence, wlen=wlen, plateau_size=plateau_size, width=width, rel_height=1)\n",
    "            total += len(peaks)\n",
    "            peaks, infor = find_peaks(-1*close, prominence=prominence, wlen=wlen, plateau_size=plateau_size, width=width, rel_height=1)\n",
    "            total += len(peaks)\n",
    "            # print(i, \": \", total)\n",
    "            record[str(i)] += total\n",
    "            detailed_record[str(i)].append(total)\n",
    "\n",
    "    for key, value in record.items():\n",
    "        record[key] = value / len(run_list)\n",
    "    tmp_check = {str(i) : np.mean(detailed_record[str(i)]) for i in range(1, 6)}\n",
    "    print(record)\n",
    "    print(tmp_check)\n",
    "    limit_y_list.append(record)\n",
    "    tmp_quantile = [np.quantile(detailed_record[str(i)], [0.05, 0.25, 0.3, 0.4, 0.5, 0.6, 0.7, 0.75, 0.95]) for i in range(1, 6)]\n",
    "    limit_q_list.append(tmp_quantile)\n",
    "    print('------------------------------------------')\n",
    "    \n",
    "print(datetime.now())"
   ]
  },
  {
   "cell_type": "code",
   "execution_count": null,
   "metadata": {},
   "outputs": [],
   "source": []
  },
  {
   "cell_type": "code",
   "execution_count": 283,
   "metadata": {},
   "outputs": [
    {
     "name": "stdout",
     "output_type": "stream",
     "text": [
      "27\n",
      "27\n",
      "27\n",
      "27\n",
      "27\n",
      "27\n"
     ]
    }
   ],
   "source": [
    "crash_number = {}\n",
    "for i in range(1, 6):\n",
    "    crash_number[i] = np.array([x[i-1][3:6] for x in limit_q_list])\n",
    "#     crash_number[i] = np.array([x[str(i)] for x in limit_y_list])\n",
    "    print(len(crash_number[i]))"
   ]
  },
  {
   "cell_type": "code",
   "execution_count": null,
   "metadata": {},
   "outputs": [],
   "source": []
  },
  {
   "cell_type": "code",
   "execution_count": 257,
   "metadata": {},
   "outputs": [],
   "source": [
    "my_dict = {'x': limit_x_list, 'mean': limit_y_list, 'q': limit_q_list}\n",
    "import pickle\n",
    "with open('mini_MM_pos_limit.pkl', 'wb') as f:\n",
    "    pickle.dump(my_dict, f, protocol=pickle.HIGHEST_PROTOCOL)\n",
    "f.close()"
   ]
  },
  {
   "cell_type": "code",
   "execution_count": 302,
   "metadata": {},
   "outputs": [],
   "source": [
    "import pickle\n",
    "with open('mini_MM_pos_limit.pkl', 'rb') as f:\n",
    "    MM_limit = pickle.load(f)\n",
    "f.close()\n",
    "with open('mini_FT_freq.pkl', 'rb') as f:\n",
    "    FT_limit = pickle.load(f)\n",
    "f.close()\n"
   ]
  },
  {
   "cell_type": "code",
   "execution_count": 320,
   "metadata": {},
   "outputs": [
    {
     "name": "stdout",
     "output_type": "stream",
     "text": [
      "27\n",
      "27\n",
      "27\n",
      "27\n",
      "27\n",
      "27\n",
      "21\n",
      "21\n",
      "21\n",
      "21\n",
      "21\n",
      "21\n"
     ]
    }
   ],
   "source": [
    "mm_x_list = MM_limit['x']\n",
    "mm_crash_number = {}\n",
    "for i in range(1, 6):\n",
    "    mm_crash_number[i] = np.array([x[i-1][3:6] for x in MM_limit['q']])\n",
    "    print(len(mm_crash_number[i]))\n",
    "print(len(mm_x_list))\n",
    "\n",
    "ft_x_list = FT_limit['x']\n",
    "ft_crash_number = {}\n",
    "for i in range(1, 6):\n",
    "    ft_crash_number[i] = np.array([x[i-1][3:6] for x in FT_limit['q']])\n",
    "    print(len(ft_crash_number[i]))\n",
    "print(len(ft_x_list))\n",
    "\n",
    "mm_crash_number[2] -= 20\n",
    "ft_crash_number[2] -= 20"
   ]
  },
  {
   "cell_type": "code",
   "execution_count": 337,
   "metadata": {},
   "outputs": [
    {
     "data": {
      "image/png": "[encoded data removed]",
      "text/plain": [
       "<Figure size 1152x432 with 2 Axes>"
      ]
     },
     "metadata": {
      "needs_background": "light"
     },
     "output_type": "display_data"
    }
   ],
   "source": [
    "fig, ax = plt.subplots(1, 2, figsize=(16, 6), sharey=True)\n",
    "\n",
    "ax[0].plot(mm_x_list, mm_crash_number[2].T[1], label='2-std flash event', alpha=0.7, color='red')\n",
    "ax[0].fill_between(mm_x_list, mm_crash_number[2].T[0], mm_crash_number[2].T[2], color='grey', alpha=0.5, label='Confidence interval')\n",
    "ax[0].plot(mm_x_list, mm_crash_number[3].T[1], label='3-std flash event', alpha=0.7)\n",
    "ax[0].fill_between(mm_x_list, mm_crash_number[3].T[0], mm_crash_number[3].T[2], color='grey', alpha=0.5)\n",
    "ax[0].plot(mm_x_list, mm_crash_number[4].T[1], label='4-std flash event', alpha=0.7)\n",
    "ax[0].fill_between(mm_x_list, mm_crash_number[4].T[0], mm_crash_number[4].T[2], color='grey', alpha=0.5)\n",
    "\n",
    "ax[0].set_title(r'$\\bf{(a)}$.Average number of Mini flash events' + ' \\n VS. market maker inventory limit', size=16)\n",
    "ax[0].set_xlabel('Inventory Limit', size=14)\n",
    "ax[0].set_ylabel('Events Number (log scale)', size=14)\n",
    "ax[0].legend(loc='best')\n",
    "ax[0].set_yscale('log')\n",
    "# ax[0].set_yscale('function', functions=(forward, inverse))\n",
    "\n",
    "ax[1].plot(ft_x_list, ft_crash_number[2].T[1], label='2-std flash event', alpha=0.7, color='red')\n",
    "ax[1].fill_between(ft_x_list, ft_crash_number[2].T[0], ft_crash_number[2].T[2], color='grey', alpha=0.5, label='Confidence interval')\n",
    "ax[1].plot(ft_x_list, ft_crash_number[3].T[1], label='3-std flash event', alpha=0.7)\n",
    "ax[1].fill_between(ft_x_list, ft_crash_number[3].T[0], ft_crash_number[3].T[2], color='grey', alpha=0.5)\n",
    "ax[1].plot(ft_x_list, ft_crash_number[4].T[1], label='4-std flash event', alpha=0.7)\n",
    "ax[1].fill_between(ft_x_list, ft_crash_number[4].T[0], ft_crash_number[4].T[2], color='grey', alpha=0.5)\n",
    "\n",
    "ax[1].set_title(r'$\\bf{(b)}$.Average number of Mini flash events' + ' \\n VS. fundamental trader trading frequency', size=16)\n",
    "ax[1].set_xlabel('Fundamental Trader Interval', size=14)\n",
    "# ax[1].set_ylabel('Events Number (log scale)', size=14)\n",
    "ax[1].legend(loc='best')\n",
    "# ax[1].set_yscale('log')\n",
    "# ax[1].set_yscale('function', functions=(forward, inverse))\n",
    "\n",
    "fig.tight_layout()\n",
    "plt.show()"
   ]
  },
  {
   "cell_type": "code",
   "execution_count": null,
   "metadata": {},
   "outputs": [],
   "source": []
  },
  {
   "cell_type": "code",
   "execution_count": null,
   "metadata": {},
   "outputs": [],
   "source": []
  },
  {
   "cell_type": "code",
   "execution_count": null,
   "metadata": {},
   "outputs": [],
   "source": []
  },
  {
   "cell_type": "code",
   "execution_count": null,
   "metadata": {},
   "outputs": [],
   "source": [
    "# Mini flash crash analysis, amplitude of mini flash crash. pos_limit=4000\n",
    "from datetime import datetime\n",
    "print(datetime.now())\n",
    "\n",
    "limit_x_list = np.arange(300, 5501, 200).tolist()\n",
    "limit_y_list = []\n",
    "limit_q_list = []\n",
    "for limit in limit_x_list:\n",
    "    print(limit)\n",
    "    model_params['MM_params']['mm_pos_limit'] = limit\n",
    "    save_target_params(model_params, save_path='CME/model_params.json')\n",
    "    flag = run_simulation()\n",
    "    assert flag == 0, \"Error when running simulation!\"\n",
    "    \n",
    "    run_list = sorted(os.listdir(\"D:/projects/simulator/Workflow/CME/Results\"))\n",
    "    run_list = [x for x in run_list if x[0] == 'r']\n",
    "    # print(len(run_list))\n",
    "    record = {str(i): 0 for i in range(1, 6)}\n",
    "    \n",
    "    detailed_record = {str(i): [] for i in range(1, 6)}\n",
    "    for sim in run_list:\n",
    "        data_path = 'CME/Results/' + sim\n",
    "        md = get_synthetic_market_data(data_path, tick_size=tick_size)\n",
    "        raw_mp = md['mp']\n",
    "        raw_mp = raw_mp.dropna().loc[start:end]\n",
    "        tmp = raw_mp.resample('1S').last().fillna(method='ffill').dropna()\n",
    "        tmp_min = raw_mp.resample('1min').last().fillna(method='ffill').dropna()\n",
    "        close = tmp.bfill().values\n",
    "        s_ret = close[1:] / close[:-1] - 1\n",
    "        close_min = tmp_min.bfill().values\n",
    "        s_ret_min = close_min[1:] / close_min[:-1] - 1\n",
    "\n",
    "        # standard deviation\n",
    "        reference_prc = np.mean(close)\n",
    "        ret_std = np.std(s_ret)\n",
    "        ret_std_min = np.std(s_ret_min)\n",
    "        std_prc = reference_prc * ret_std_min\n",
    "        std_dict = {str(i): i * std_prc for i in range(1, 6)}\n",
    "\n",
    "        for i in range(1, 6):\n",
    "            prominence = std_dict[str(i)]\n",
    "            wlen = 600\n",
    "            width = (None, 600)\n",
    "            plateau_size = (None, None)\n",
    "            total = 0\n",
    "            peaks, infor = find_peaks(close, prominence=prominence, wlen=wlen, plateau_size=plateau_size, width=width, rel_height=1)\n",
    "            total += len(peaks)\n",
    "            peaks, infor = find_peaks(-1*close, prominence=prominence, wlen=wlen, plateau_size=plateau_size, width=width, rel_height=1)\n",
    "            total += len(peaks)\n",
    "            # print(i, \": \", total)\n",
    "            record[str(i)] += total\n",
    "            detailed_record[str(i)].append(total)\n",
    "\n",
    "    for key, value in record.items():\n",
    "        record[key] = value / len(run_list)\n",
    "    tmp_check = {str(i) : np.mean(detailed_record[str(i)]) for i in range(1, 6)}\n",
    "    print(record)\n",
    "    print(tmp_check)\n",
    "    limit_y_list.append(record)\n",
    "    tmp_quantile = [np.quantile(detailed_record[str(i)], [0.05, 0.25, 0.3, 0.4, 0.5, 0.6, 0.7, 0.75, 0.95]) for i in range(1, 6)]\n",
    "    limit_q_list.append(tmp_quantile)\n",
    "    print('------------------------------------------')\n",
    "    \n",
    "print(datetime.now())"
   ]
  },
  {
   "cell_type": "code",
   "execution_count": null,
   "metadata": {},
   "outputs": [],
   "source": []
  },
  {
   "cell_type": "code",
   "execution_count": null,
   "metadata": {},
   "outputs": [],
   "source": []
  },
  {
   "cell_type": "code",
   "execution_count": null,
   "metadata": {},
   "outputs": [],
   "source": []
  }
 ],
 "metadata": {
  "kernelspec": {
   "display_name": "PyCharm (chiarella-abm)",
   "language": "python",
   "name": "pycharm-4e84fde5"
  },
  "language_info": {
   "codemirror_mode": {
    "name": "ipython",
    "version": 3
   },
   "file_extension": ".py",
   "mimetype": "text/x-python",
   "name": "python",
   "nbconvert_exporter": "python",
   "pygments_lexer": "ipython3",
   "version": "3.6.4"
  }
 },
 "nbformat": 4,
 "nbformat_minor": 2
}
