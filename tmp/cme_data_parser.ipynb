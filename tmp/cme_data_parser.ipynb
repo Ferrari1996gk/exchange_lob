{
 "cells": [
  {
   "cell_type": "code",
   "execution_count": 1,
   "metadata": {},
   "outputs": [
    {
     "data": {
      "text/html": [
       "<style>.container { width:100% !important; }</style>"
      ],
      "text/plain": [
       "<IPython.core.display.HTML object>"
      ]
     },
     "metadata": {},
     "output_type": "display_data"
    }
   ],
   "source": [
    "from IPython.display import display, HTML\n",
    "display(HTML(\"<style>.container { width:100% !important; }</style>\"))"
   ]
  },
  {
   "cell_type": "code",
   "execution_count": null,
   "metadata": {},
   "outputs": [],
   "source": []
  },
  {
   "cell_type": "code",
   "execution_count": 2,
   "metadata": {},
   "outputs": [],
   "source": [
    "def tmp_parse(message, separator='\\x01', valueSeparator='='):\n",
    "    head = {}\n",
    "    tmp_ind = message.find('268=')\n",
    "    if tmp_ind == -1:\n",
    "        #print(message)\n",
    "        return None\n",
    "    # assert tmp_ind != -1, \"TAG 268 not found!\"\n",
    "    split = message.find(separator, tmp_ind)\n",
    "    n = 0\n",
    "    while n < split:\n",
    "        # Parse the next tag\n",
    "        nextValueSeparator = message.index(valueSeparator, n)\n",
    "        tag = message[n:nextValueSeparator]\n",
    "        # Parse the next value\n",
    "        nextSeparator = message.index(separator, nextValueSeparator)\n",
    "        value = message[nextValueSeparator + 1:nextSeparator]\n",
    "        n = nextSeparator + 1\n",
    "        assert head.get(tag) is None, \"Illegal duplicated values!\"\n",
    "        head[tag] = value\n",
    "    return head\n",
    "\n",
    "\n",
    "def test_message(message, separator='\\x01', valueSeparator='='):\n",
    "    if len(message) == 0 or message[-1] != separator:\n",
    "        raise ValueError('FIX Message is invalid!')\n",
    "    a_ind = message.find('1023=')\n",
    "    b_ind = message.find('37705=')\n",
    "    c_ind = message.find('269=2')\n",
    "    return a_ind, b_ind, c_ind\n"
   ]
  },
  {
   "cell_type": "code",
   "execution_count": null,
   "metadata": {},
   "outputs": [],
   "source": []
  },
  {
   "cell_type": "code",
   "execution_count": null,
   "metadata": {},
   "outputs": [],
   "source": []
  },
  {
   "cell_type": "code",
   "execution_count": null,
   "metadata": {},
   "outputs": [],
   "source": []
  },
  {
   "cell_type": "code",
   "execution_count": null,
   "metadata": {},
   "outputs": [],
   "source": [
    "year = '2022'\n",
    "month = '01'\n",
    "day = '03'\n",
    "datestr = year + month + day\n",
    "directory = 'C:/data/CME/2022/{0}/{1}/MBO/XCME/'.format(month, day)\n",
    "name = '{0}-MBO_xcme_es_fut_eth.gz'.format(datestr)\n",
    "file = directory + name\n",
    "\n",
    "f = gzip.open(file, 'rb')\n",
    "i = 0\n",
    "# my_set = set({})\n",
    "for line in f:\n",
    "    message = line.decode('utf-8')[:-1]\n",
    "    flag = False\n",
    "    if i % 500000 == 0:\n",
    "        print(i)\n",
    "    i += 1\n",
    "#     if message.find('55=') == -1:\n",
    "#         print(i)\n",
    "#         print(message)\n",
    "#         print()\n",
    "#     a_ind, b_ind, c_ind = test_message(message)\n",
    "    head = tmp_parse(message)\n",
    "    if head is None:\n",
    "        continue\n",
    "    if head['5799'][-3:] == '000':\n",
    "        print(i)\n",
    "        print(message)\n",
    "        print()\n",
    "#     if c_ind == -1 and a_ind == -1 and b_ind != -1:\n",
    "#         print(i)\n",
    "#         print(message)\n",
    "#         print()\n",
    "    # head, block_list = parseMessage(line.decode('utf-8')[:-1])\n",
    "#     head = tmp_parse(line.decode('utf-8')[:-1])\n",
    "#     if head is None:\n",
    "#         continue\n",
    "#     if head['5799'] == '10000100':\n",
    "#         print(line.decode('utf-8')[:-1])\n",
    "#         # print(head)\n",
    "#         print()\n",
    "    # my_set.add(head['5799'])"
   ]
  },
  {
   "cell_type": "code",
   "execution_count": null,
   "metadata": {},
   "outputs": [],
   "source": [
    "year = '2022'\n",
    "month = '01'\n",
    "day = '03'\n",
    "datestr = year + month + day\n",
    "directory = 'C:/data/CME/2022/{0}/{1}/MBO/XCME/'.format(month, day)\n",
    "name = '{0}-MBO_xcme_es_fut_eth.gz'.format(datestr)\n",
    "file = directory + name\n",
    "\n",
    "f = gzip.open(file, 'rb')\n",
    "i = 0\n",
    "for line in f:\n",
    "    message = line.decode('utf-8')[:-1]\n",
    "    flag = False\n",
    "    if i % 500000 == 0:\n",
    "        print(i)\n",
    "    i += 1\n",
    "    # head, block_list = parseMessage(message)\n",
    "    # head = tmp_parse(message)\n",
    "    head, block_list = parseOrderMessage(message)\n",
    "    print(block_list)\n",
    "    if head is None:\n",
    "        continue"
   ]
  },
  {
   "cell_type": "code",
   "execution_count": null,
   "metadata": {},
   "outputs": [],
   "source": []
  },
  {
   "cell_type": "code",
   "execution_count": null,
   "metadata": {},
   "outputs": [],
   "source": []
  },
  {
   "cell_type": "code",
   "execution_count": null,
   "metadata": {},
   "outputs": [],
   "source": []
  },
  {
   "cell_type": "code",
   "execution_count": 2,
   "metadata": {
    "scrolled": false
   },
   "outputs": [
    {
     "name": "stdout",
     "output_type": "stream",
     "text": [
      "61\n",
      "Start parsing data for 20220102\n",
      "0\n",
      "1128=9\u00019=127\u000135=f\u000149=CME\u000134=237\u000152=20220102111606487746842\u000160=20220102111556495685151\u000175=20220102\u00015799=10000000\u00011151=ES\u0001326=18\u0001327=1\u00011174=0\u000110=146\u0001\n",
      "1128=9\u00019=513\u000135=d\u000149=CME\u000175=20220102\u000134=935\u000152=20220102170459282163099\u00015799=00000000\u0001980=A\u0001779=20220102170459164797581\u00011180=310\u00011300=64\u000155=ESZ3\u000148=314863\u000122=8\u0001200=202312\u00011151=ES\u00016937=ES\u0001167=FUT\u0001461=FFIXSX\u00019779=N\u0001462=5\u0001207=XCME\u000115=USD\u00011142=F\u0001562=1\u00011140=3000\u0001969=25.0\u00011146=12.5\u00019787=0.01\u00011141=1\u00011022=GBX\u0001264=10\u0001864=2\u0001865=5\u00011145=20210604-21:30:00.000000000\u0001865=7\u00011145=20231215-14:30:00.000000000\u0001870=1\u0001871=24\u0001872=00000000000001000010000000001111\u0001996=IPNT\u00011147=50\u00011149=508625.0\u00011148=441925.0\u00011143=600.0\u00011150=475300.0\u0001731=00000011\u000110=194\u0001\n",
      "1128=9\u00019=513\u000135=d\u000149=CME\u000175=20220102\u000134=936\u000152=20220102170459282348858\u00015799=00000000\u0001980=A\u0001779=20220102170459164797581\u00011180=310\u00011300=64\u000155=ESZ5\u000148=294973\u000122=8\u0001200=202512\u00011151=ES\u00016937=ES\u0001167=FUT\u0001461=FFIXSX\u00019779=N\u0001462=5\u0001207=XCME\u000115=USD\u00011142=F\u0001562=1\u00011140=3000\u0001969=25.0\u00011146=12.5\u00019787=0.01\u00011141=1\u00011022=GBX\u0001264=10\u0001864=2\u0001865=5\u00011145=20210604-21:30:00.000000000\u0001865=7\u00011145=20251219-14:30:00.000000000\u0001870=1\u0001871=24\u0001872=00000000000001000010000000001111\u0001996=IPNT\u00011147=50\u00011149=516225.0\u00011148=449525.0\u00011143=600.0\u00011150=482900.0\u0001731=00000011\u000110=225\u0001\n",
      "1128=9\u00019=512\u000135=d\u000149=CME\u000175=20220102\u000134=937\u000152=20220102170459282450795\u00015799=00000000\u0001980=A\u0001779=20220102170459164797581\u00011180=310\u00011300=64\u000155=ESU2\u000148=97042\u000122=8\u0001200=202209\u00011151=ES\u00016937=ES\u0001167=FUT\u0001461=FFIXSX\u00019779=N\u0001462=5\u0001207=XCME\u000115=USD\u00011142=F\u0001562=1\u00011140=3000\u0001969=25.0\u00011146=12.5\u00019787=0.01\u00011141=1\u00011022=GBX\u0001264=10\u0001864=2\u0001865=5\u00011145=20210604-21:30:00.000000000\u0001865=7\u00011145=20220916-13:30:00.000000000\u0001870=1\u0001871=24\u0001872=00000000000001000010000000001111\u0001996=IPNT\u00011147=50\u00011149=507925.0\u00011148=441225.0\u00011143=600.0\u00011150=474600.0\u0001731=00000011\u000110=147\u0001\n",
      "1128=9\u00019=513\u000135=d\u000149=CME\u000175=20220102\u000134=938\u000152=20220102170459282551440\u00015799=00000000\u0001980=A\u0001779=20220102170459164797581\u00011180=310\u00011300=64\u000155=ESZ4\u000148=183748\u000122=8\u0001200=202412\u00011151=ES\u00016937=ES\u0001167=FUT\u0001461=FFIXSX\u00019779=N\u0001462=5\u0001207=XCME\u000115=USD\u00011142=F\u0001562=1\u00011140=3000\u0001969=25.0\u00011146=12.5\u00019787=0.01\u00011141=1\u00011022=GBX\u0001264=10\u0001864=2\u0001865=5\u00011145=20210604-21:30:00.000000000\u0001865=7\u00011145=20241220-14:30:00.000000000\u0001870=1\u0001871=24\u0001872=00000000000001000010000000001111\u0001996=IPNT\u00011147=50\u00011149=512425.0\u00011148=445725.0\u00011143=600.0\u00011150=479100.0\u0001731=00000011\u000110=190\u0001\n",
      "1128=9\u00019=512\u000135=d\u000149=CME\u000175=20220102\u000134=939\u000152=20220102170459282644955\u00015799=00000000\u0001980=A\u0001779=20220102170459164797581\u00011180=310\u00011300=64\u000155=ESZ6\u000148=10252\u000122=8\u0001200=202612\u00011151=ES\u00016937=ES\u0001167=FUT\u0001461=FFIXSX\u00019779=N\u0001462=5\u0001207=XCME\u000115=USD\u00011142=F\u0001562=1\u00011140=3000\u0001969=25.0\u00011146=12.5\u00019787=0.01\u00011141=1\u00011022=GBX\u0001264=10\u0001864=2\u0001865=5\u00011145=20210917-13:30:00.000000000\u0001865=7\u00011145=20261218-14:30:00.000000000\u0001870=1\u0001871=24\u0001872=00000000000001000010000000001111\u0001996=IPNT\u00011147=50\u00011149=520825.0\u00011148=454125.0\u00011143=600.0\u00011150=487500.0\u0001731=00000011\u000110=156\u0001\n",
      "1128=9\u00019=511\u000135=d\u000149=CME\u000175=20220102\u000134=940\u000152=20220102170459282737939\u00015799=00000000\u0001980=A\u0001779=20220102170459164797581\u00011180=310\u00011300=64\u000155=ESU3\u000148=3445\u000122=8\u0001200=202309\u00011151=ES\u00016937=ES\u0001167=FUT\u0001461=FFIXSX\u00019779=N\u0001462=5\u0001207=XCME\u000115=USD\u00011142=F\u0001562=1\u00011140=3000\u0001969=25.0\u00011146=12.5\u00019787=0.01\u00011141=1\u00011022=GBX\u0001264=10\u0001864=2\u0001865=5\u00011145=20210617-13:30:00.000000000\u0001865=7\u00011145=20230915-13:30:00.000000000\u0001870=1\u0001871=24\u0001872=00000000000001000010000000001111\u0001996=IPNT\u00011147=50\u00011149=508325.0\u00011148=441625.0\u00011143=600.0\u00011150=475000.0\u0001731=00000011\u000110=095\u0001\n",
      "1128=9\u00019=513\u000135=d\u000149=CME\u000175=20220102\u000134=941\u000152=20220102170459282836739\u00015799=00000000\u0001980=A\u0001779=20220102170459164797581\u00011180=310\u00011300=64\u000155=ESH3\u000148=206299\u000122=8\u0001200=202303\u00011151=ES\u00016937=ES\u0001167=FUT\u0001461=FFIXSX\u00019779=N\u0001462=5\u0001207=XCME\u000115=USD\u00011142=F\u0001562=1\u00011140=3000\u0001969=25.0\u00011146=12.5\u00019787=0.01\u00011141=1\u00011022=GBX\u0001264=10\u0001864=2\u0001865=5\u00011145=20210604-21:30:00.000000000\u0001865=7\u00011145=20230317-13:30:00.000000000\u0001870=1\u0001871=24\u0001872=00000000000001000010000000001111\u0001996=IPNT\u00011147=50\u00011149=507925.0\u00011148=441225.0\u00011143=600.0\u00011150=474600.0\u0001731=00000011\u000110=182\u0001\n",
      "1128=9\u00019=512\u000135=d\u000149=CME\u000175=20220102\u000134=942\u000152=20220102170459282924494\u00015799=00000000\u0001980=A\u0001779=20220102170459164797581\u00011180=310\u00011300=64\u000155=ESM3\u000148=95414\u000122=8\u0001200=202306\u00011151=ES\u00016937=ES\u0001167=FUT\u0001461=FFIXSX\u00019779=N\u0001462=5\u0001207=XCME\u000115=USD\u00011142=F\u0001562=1\u00011140=3000\u0001969=25.0\u00011146=12.5\u00019787=0.01\u00011141=1\u00011022=GBX\u0001264=10\u0001864=2\u0001865=5\u00011145=20210604-21:30:00.000000000\u0001865=7\u00011145=20230616-13:30:00.000000000\u0001870=1\u0001871=24\u0001872=00000000000001000010000000001111\u0001996=IPNT\u00011147=50\u00011149=508025.0\u00011148=441325.0\u00011143=600.0\u00011150=474700.0\u0001731=00000011\u000110=129\u0001\n",
      "1128=9\u00019=511\u000135=d\u000149=CME\u000175=20220102\u000134=943\u000152=20220102170459283020264\u00015799=00000000\u0001980=A\u0001779=20220102170459164797581\u00011180=310\u00011300=64\u000155=ESM2\u000148=3403\u000122=8\u0001200=202206\u00011151=ES\u00016937=ES\u0001167=FUT\u0001461=FFIXSX\u00019779=N\u0001462=5\u0001207=XCME\u000115=USD\u00011142=F\u0001562=1\u00011140=3000\u0001969=25.0\u00011146=12.5\u00019787=0.01\u00011141=1\u00011022=GBX\u0001264=10\u0001864=2\u0001865=5\u00011145=20210319-13:30:00.000000000\u0001865=7\u00011145=20220617-13:30:00.000000000\u0001870=1\u0001871=24\u0001872=00000000000001000010000000001111\u0001996=IPNT\u00011147=50\u00011149=508375.0\u00011148=441675.0\u00011143=600.0\u00011150=475050.0\u0001731=00000011\u000110=068\u0001\n",
      "1128=9\u00019=513\u000135=d\u000149=CME\u000175=20220102\u000134=944\u000152=20220102170459283112311\u00015799=00000000\u0001980=A\u0001779=20220102170459164797581\u00011180=310\u00011300=64\u000155=ESZ2\u000148=206323\u000122=8\u0001200=202212\u00011151=ES\u00016937=ES\u0001167=FUT\u0001461=FFIXSX\u00019779=N\u0001462=5\u0001207=XCME\u000115=USD\u00011142=F\u0001562=1\u00011140=3000\u0001969=25.0\u00011146=12.5\u00019787=0.01\u00011141=1\u00011022=GBX\u0001264=10\u0001864=2\u0001865=5\u00011145=20210604-21:30:00.000000000\u0001865=7\u00011145=20221216-14:30:00.000000000\u0001870=1\u0001871=24\u0001872=00000000000001000010000000001111\u0001996=IPNT\u00011147=50\u00011149=507625.0\u00011148=440925.0\u00011143=600.0\u00011150=474300.0\u0001731=00000011\u000110=162\u0001\n",
      "1128=9\u00019=511\u000135=d\u000149=CME\u000175=20220102\u000134=946\u000152=20220102170459283325483\u00015799=00000000\u0001980=A\u0001779=20220102170459164797581\u00011180=310\u00011300=64\u000155=ESH2\u000148=5782\u000122=8\u0001200=202203\u00011151=ES\u00016937=ES\u0001167=FUT\u0001461=FFIXSX\u00019779=N\u0001462=5\u0001207=XCME\u000115=USD\u00011142=F\u0001562=1\u00011140=3000\u0001969=25.0\u00011146=12.5\u00019787=0.01\u00011141=1\u00011022=GBX\u0001264=10\u0001864=2\u0001865=5\u00011145=20201218-14:30:00.000000000\u0001865=7\u00011145=20220318-13:30:00.000000000\u0001870=1\u0001871=24\u0001872=00000000000001000010000000001111\u0001996=IPNT\u00011147=50\u00011149=509175.0\u00011148=442475.0\u00011143=600.0\u00011150=475850.0\u0001731=00000011\u000110=089\u0001\n",
      "1128=9\u00019=512\u000135=d\u000149=CME\u000175=20220102\u000134=947\u000152=20220102170459283436040\u00015799=00000000\u0001980=A\u0001779=20220102170459164797581\u00011180=310\u00011300=64\u000155=ESH4\u000148=17077\u000122=8\u0001200=202403\u00011151=ES\u00016937=ES\u0001167=FUT\u0001461=FFIXSX\u00019779=N\u0001462=5\u0001207=XCME\u000115=USD\u00011142=F\u0001562=1\u00011140=3000\u0001969=25.0\u00011146=12.5\u00019787=0.01\u00011141=1\u00011022=GBX\u0001264=10\u0001864=2\u0001865=5\u00011145=20211217-14:30:00.000000000\u0001865=7\u00011145=20240315-13:30:00.000000000\u0001870=1\u0001871=24\u0001872=00000000000001000010000000001111\u0001996=IPNT\u00011147=50\u00011149=510025.0\u00011148=443325.0\u00011143=600.0\u00011150=476700.0\u0001731=00000011\u000110=110\u0001\n",
      "1128=9\u00019=128\u000135=f\u000149=CME\u000134=1644\u000152=20220102200006943164645\u000160=20220102200006673124187\u000175=20220102\u00015799=10000000\u00011151=ES\u0001326=18\u0001327=1\u00011174=0\u000110=167\u0001\n",
      "1128=9\u00019=128\u000135=f\u000149=CME\u000134=1886\u000152=20220102220000095306826\u000160=20220102220000000000000\u000175=20220103\u00015799=10000000\u00011151=ES\u0001326=21\u0001327=0\u00011174=4\u000110=123\u0001\n"
     ]
    }
   ],
   "source": [
    "import gzip\n",
    "from datetime import datetime\n",
    "from CMEdataUtil import MarketDepth, parseOrderMessage, OrderEvent, FillEvent, TradeEvent, update_levels\n",
    "\n",
    "def block_to_order_indi1(block, head):\n",
    "    return OrderEvent(head['60'], block['37'], block['55'], block['279'], block['269'], block['270'], \n",
    "                      block['37706'])\n",
    "\n",
    "def block_to_order_indi4(block, level_block, head):\n",
    "    return OrderEvent(head['60'], block['37'], level_block['55'], block['37708'], level_block['269'], \n",
    "                      level_block['270'], block['37706'])\n",
    "\n",
    "def block_to_trade(block, head, agg_id, agg_qty):\n",
    "    return TradeEvent(head['60'], block['55'], 'trade', block['5797'], block['270'], block['271'], agg_id, agg_qty, block['346'])\n",
    "    \n",
    "def write_orders(order_list, f):\n",
    "    for o in order_list:\n",
    "        f.write(str(o))\n",
    "\n",
    "orders_head = 'TRANSACTTIME,PUBLIC_ORDER_ID,SYMBOL,EXECTYPE,SIDE,PRICE,VISIBLEQTY\\n'\n",
    "trades_head = 'TRANSACTTIME,SYMBOL,EXECTYPE,SIDE,EXECUTEDPRICE,EXECUTEDSIZE,PUBLICORDERID,PUBLICORDERQTY,ORDERSNUM\\n'\n",
    "fills_head = 'TRANSACTTIME,SYMBOL,PUBLICORDERID,PUBLICORDERQTY\\n'\n",
    "levels_head = \"time,\"+\"\".join([\"BidPrc_%d,BidQty_%d,BidNum_%d,\"%(i,i,i) for i in range(1, 11)]) + \"\".join([\"AskPrc_%d,AskQty_%d,AskNum_%d,\"%(i,i,i) for i in range(1, 10)]) + \"AskPrc_10,AskQty_10,AskNum_10\\n\"\n",
    "print(len(levels_head.split(',')))\n",
    "\n",
    "ticker = 'ESM2'\n",
    "year = '2022'\n",
    "month = '01'\n",
    "day = '02'\n",
    "\n",
    "datestr = year + month + day\n",
    "# if datetime.strptime(datestr, '%Y%m%d').weekday() >= 5:\n",
    "#     print(\"Skip %s: weekend!\"%datestr)\n",
    "#     continue\n",
    "print(\"Start parsing data for %s\"%datestr)\n",
    "directory = 'C:/data/CME/2022/{0}/{1}/MBO/XCME/'.format(month, day)\n",
    "name = '{0}-MBO_xcme_es_fut_eth.gz'.format(datestr)\n",
    "file = directory + name\n",
    "\n",
    "\n",
    "bid_depth = MarketDepth(total_level=10, side='bid')\n",
    "ask_depth = MarketDepth(total_level=10, side='ask')\n",
    "fl = open(directory+ticker+'_levels.csv', 'w')\n",
    "fl.write(levels_head)\n",
    "ft = open(directory+ticker+'_trades.csv', 'w')\n",
    "ft.write(trades_head)\n",
    "fo = open(directory+ticker+'_orders.csv', 'w')\n",
    "fo.write(orders_head)\n",
    "ff = open(directory+ticker+'_fills.csv', 'w')\n",
    "ff.write(fills_head)\n",
    "\n",
    "f = gzip.open(file, 'rb')\n",
    "i = 0\n",
    "\n",
    "for line in f:\n",
    "    message = line.decode('utf-8')[:-1]\n",
    "    if i % 500000 == 0:\n",
    "        print(i)\n",
    "    i += 1\n",
    "    head, block_list = parseOrderMessage(message)\n",
    "    if head is None:\n",
    "        continue\n",
    "\n",
    "    if head['000'] == '0':\n",
    "        # trades\n",
    "        assert len(block_list) == int(head['268']) + int(head['37705'])\n",
    "        num_entries = int(head['268'])\n",
    "        cumsum_id = num_entries\n",
    "        flag = True # Used for the case when 5797=0 is in the middle of several blocks in one message\n",
    "        for idx in range(num_entries):\n",
    "            block = block_list[idx]\n",
    "            assert block['279'] == '0'\n",
    "            if cumsum_id >= len(block_list): # For the case when there is some orders missing in trades message\n",
    "                print(i, 'cumsum_id larger than length of block_list!', cumsum_id, len(block_list))\n",
    "                break\n",
    "            if block['55'] == ticker:\n",
    "                left, right = cumsum_id, cumsum_id + int(block['346'])\n",
    "                for tmp_b in block_list[left:right]:\n",
    "                    _fill = FillEvent(head['60'], ticker, tmp_b['37'], tmp_b['32'])\n",
    "                    ff.write(str(_fill))\n",
    "                \n",
    "                if block['5797'] == '0':\n",
    "                    print(i, ' aggressor tag 5797 is 0 !!!')\n",
    "                    flag = False\n",
    "                    cumsum_id += int(block['346'])\n",
    "                    continue\n",
    "                assert block_list[cumsum_id]['32'] == block['271']\n",
    "                t = block_to_trade(block, head, block_list[cumsum_id]['37'], block_list[cumsum_id]['32'])\n",
    "                ft.write(str(t))\n",
    "            \n",
    "            cumsum_id += int(block['346'])\n",
    "        \n",
    "        if flag and cumsum_id != num_entries + int(head['37705']):\n",
    "            print(i, 'cumsum_id and length of block_list mismatch!', cumsum_id, num_entries + int(head['37705']))\n",
    "    elif head['000'] == '1':\n",
    "        assert int(head['268']) == len(block_list)\n",
    "        for block in block_list:\n",
    "            if block['55'] == ticker and (block['269'] == '0' or block['269'] == '1'):\n",
    "                o = block_to_order_indi1(block, head)\n",
    "                fo.write(str(o))\n",
    "        \n",
    "    elif head['000'] == '2':\n",
    "        assert len(block_list) == int(head['268']), \"block number mismatch!\"\n",
    "        flag = update_levels(bid_depth, ask_depth, block_list, ticker)\n",
    "        bid_str, ask_str = str(bid_depth), str(ask_depth)\n",
    "        if flag and bid_str != \"\" and ask_str != \"\":\n",
    "            assert bid_str[-1] == ask_str[-1] == \"\\n\", \"Error in depth string!\"\n",
    "            res_str = head['60'] + \",\" + bid_str[:-1] + \",\" + ask_str\n",
    "            assert len(res_str.split(\",\")) == 61, \"Error when generating result string!\"\n",
    "            fl.write(res_str)\n",
    "            \n",
    "    elif head['000'] == '3':\n",
    "        raise Exception('Unexpected value 3 for 000 in head')\n",
    "    \n",
    "    elif head['000'] == '4':\n",
    "        assert len(block_list) == int(head['268']) + int(head['37705'])\n",
    "        split = int(head['268'])\n",
    "        flag = update_levels(bid_depth, ask_depth, block_list[:split], ticker)\n",
    "        bid_str, ask_str = str(bid_depth), str(ask_depth)\n",
    "        if flag and bid_str != \"\" and ask_str != \"\":\n",
    "            assert bid_str[-1] == ask_str[-1] == \"\\n\", \"Error in depth string!\"\n",
    "            res_str = head['60'] + \",\" + bid_str[:-1] + \",\" + ask_str\n",
    "            assert len(res_str.split(\",\")) == 61, \"Error when generating result string!\"\n",
    "            fl.write(res_str)\n",
    "            \n",
    "        for block in block_list[split:]:\n",
    "            level_block = block_list[int(block['9633'])-1]\n",
    "            if level_block['269'] != '0' and level_block['269'] != '1':\n",
    "                raise Exception('Invalid level block!')\n",
    "            if level_block['55'] == ticker:\n",
    "                o = block_to_order_indi4(block, level_block, head)\n",
    "                fo.write(str(o))\n",
    "        \n",
    "    else:\n",
    "        raise Exception('Unknown value for 000 in head')\n",
    "    \n",
    "    \n",
    "\n",
    "f.close()\n",
    "fl.close()\n",
    "ft.close()\n",
    "fo.close()\n",
    "ff.close()"
   ]
  },
  {
   "cell_type": "code",
   "execution_count": 4,
   "metadata": {},
   "outputs": [],
   "source": [
    "f.close()\n",
    "fl.close()\n",
    "ft.close()\n",
    "fo.close()\n",
    "ff.close()"
   ]
  },
  {
   "cell_type": "code",
   "execution_count": null,
   "metadata": {},
   "outputs": [],
   "source": []
  },
  {
   "cell_type": "code",
   "execution_count": 7,
   "metadata": {},
   "outputs": [
    {
     "data": {
      "text/plain": [
       "({'1128': '9',\n",
       "  '9': '279',\n",
       "  '35': 'X',\n",
       "  '49': 'CME',\n",
       "  '75': '20220103',\n",
       "  '34': '10802',\n",
       "  '52': '20220102230007887992105',\n",
       "  '60': '20220102230007887344271',\n",
       "  '5799': '00000001',\n",
       "  '268': '1',\n",
       "  '000': '0',\n",
       "  '37705': '4'},\n",
       " 5)"
      ]
     },
     "execution_count": 7,
     "metadata": {},
     "output_type": "execute_result"
    }
   ],
   "source": [
    "head, len(block_list)"
   ]
  },
  {
   "cell_type": "code",
   "execution_count": 8,
   "metadata": {
    "scrolled": false
   },
   "outputs": [
    {
     "data": {
      "text/plain": [
       "[{'279': '0',\n",
       "  '269': '2',\n",
       "  '48': '5782',\n",
       "  '55': 'ESH2',\n",
       "  '83': '4787',\n",
       "  '270': '477625.0',\n",
       "  '271': '3',\n",
       "  '346': '4',\n",
       "  '5797': '1',\n",
       "  '37711': '27329'},\n",
       " {'37': '649196488319', '32': '3'},\n",
       " {'37': '649196487167', '32': '1'},\n",
       " {'37': '649196487172', '32': '1'},\n",
       " {'37': '649196487138', '32': '1', '10': '061'}]"
      ]
     },
     "execution_count": 8,
     "metadata": {},
     "output_type": "execute_result"
    }
   ],
   "source": [
    "block_list"
   ]
  },
  {
   "cell_type": "code",
   "execution_count": null,
   "metadata": {},
   "outputs": [],
   "source": []
  },
  {
   "cell_type": "code",
   "execution_count": null,
   "metadata": {},
   "outputs": [],
   "source": []
  },
  {
   "cell_type": "code",
   "execution_count": null,
   "metadata": {},
   "outputs": [],
   "source": []
  }
 ],
 "metadata": {
  "kernelspec": {
   "display_name": "PyCharm (chiarella-abm)",
   "language": "python",
   "name": "pycharm-4e84fde5"
  },
  "language_info": {
   "codemirror_mode": {
    "name": "ipython",
    "version": 3
   },
   "file_extension": ".py",
   "mimetype": "text/x-python",
   "name": "python",
   "nbconvert_exporter": "python",
   "pygments_lexer": "ipython3",
   "version": "3.9.13"
  }
 },
 "nbformat": 4,
 "nbformat_minor": 2
}
