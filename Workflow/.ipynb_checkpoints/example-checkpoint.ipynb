{
 "cells": [
  {
   "cell_type": "code",
   "execution_count": 1,
   "metadata": {},
   "outputs": [],
   "source": [
    "import json\n",
    "from datetime import timedelta\n",
    "import numpy as np\n",
    "import pandas as pd\n",
    "from IPython.core.display import display\n",
    "from numpy import genfromtxt\n",
    "\n",
    "import matplotlib.pyplot as plt\n",
    "\n",
    "cloud_path = \"D:/Simudyne Limited/Data - LSE Market Data\"\n",
    "lit_path = '{0}/{1}'.format(cloud_path,  'L2/data-x.londonstockexchange.com/data-x/TRQX')\n",
    "lob_path = '{0}/{1}'.format(cloud_path,  'LOB')\n",
    "\n",
    "symbol = 'VODl'\n",
    "mic = 'XLON'\n",
    "\n",
    "tick_size = .02\n",
    "step_size = 20000\n",
    "\n",
    "datestr = '2021-01-29'\n",
    "date = pd.to_datetime(datestr)\n",
    "\n",
    "OPEN = pd.to_datetime('{0} 08:00'.format(date.strftime('%Y-%m-%d')))\n",
    "CLOSE = pd.to_datetime('{0} 16:29:59.999999'.format(date.strftime('%Y-%m-%d')))\n",
    "\n"
   ]
  },
  {
   "cell_type": "code",
   "execution_count": 3,
   "metadata": {},
   "outputs": [],
   "source": [
    "import time\n",
    "# while True:\n",
    "#     print(1)\n",
    "#     time.sleep(30)"
   ]
  },
  {
   "cell_type": "code",
   "execution_count": null,
   "metadata": {},
   "outputs": [],
   "source": []
  }
 ],
 "metadata": {
  "kernelspec": {
   "display_name": "Python 3",
   "language": "python",
   "name": "python3"
  },
  "language_info": {
   "codemirror_mode": {
    "name": "ipython",
    "version": 3
   },
   "file_extension": ".py",
   "mimetype": "text/x-python",
   "name": "python",
   "nbconvert_exporter": "python",
   "pygments_lexer": "ipython3",
   "version": "3.6.4"
  }
 },
 "nbformat": 4,
 "nbformat_minor": 1
}
