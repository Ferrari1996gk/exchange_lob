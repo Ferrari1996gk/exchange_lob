{
 "cells": [
  {
   "cell_type": "code",
   "execution_count": 14,
   "metadata": {},
   "outputs": [
    {
     "data": {
      "text/html": [
       "<style>.container { width:100% !important; }</style>"
      ],
      "text/plain": [
       "<IPython.core.display.HTML object>"
      ]
     },
     "metadata": {},
     "output_type": "display_data"
    }
   ],
   "source": [
    "from IPython.display import display, HTML\n",
    "display(HTML(\"<style>.container { width:100% !important; }</style>\"))"
   ]
  },
  {
   "cell_type": "code",
   "execution_count": 15,
   "metadata": {},
   "outputs": [],
   "source": [
    "from datetime import datetime\n",
    "import pandas as pd\n",
    "import numpy as np\n",
    "import re\n",
    "CME_datetime_format = \"%Y%m%d%H%M%S%f\""
   ]
  },
  {
   "cell_type": "code",
   "execution_count": 16,
   "metadata": {},
   "outputs": [
    {
     "name": "stdout",
     "output_type": "stream",
     "text": [
      "C:/data/CME/2022/01/03/MBO/XCME/ESM2_orders.csv C:/data/CME/2022/01/03/MBO/XCME/ESM2_prefix.csv C:/data/CME/2022/01/04/MBO/XCME/ESM2_prefix.csv C:/data/CME/2022/01/03/MBO/XCME/ESM2_suffix.csv\n"
     ]
    }
   ],
   "source": [
    "symbol = 'ESH2'\n",
    "month = '01'\n",
    "day = '03'\n",
    "next_day = '0'+str(int(day)+1) if len(str(int(day)+1)) == 1 else str(int(day)+1)\n",
    "datestr = \"2022\"+month+day\n",
    "data_path = 'C:/data/CME/2022/%s/%s/MBO/XCME/'%(month, day)\n",
    "order_file = data_path + symbol + '_orders.csv'\n",
    "prefix_file = data_path + symbol + '_prefix.csv'\n",
    "next_prefix_out = 'C:/data/CME/2022/%s/%s/MBO/XCME/'%(month, next_day) + symbol + '_prefix.csv'\n",
    "suffix_file = data_path + symbol + '_suffix.csv'\n",
    "print(order_file, prefix_file, next_prefix_out, suffix_file)\n"
   ]
  },
  {
   "cell_type": "code",
   "execution_count": 17,
   "metadata": {},
   "outputs": [],
   "source": [
    "def load_lit_orders(order_file, prefix=None, suffix=None):\n",
    "    orders = pd.read_csv(order_file, parse_dates=['TRANSACTTIME'], date_parser=lambda x: pd.to_datetime(x, format=CME_datetime_format))\n",
    "    if prefix is not None:\n",
    "        prefix_df = pd.read_csv(prefix, parse_dates=['TRANSACTTIME'], date_parser=lambda x: pd.to_datetime(x, format=CME_datetime_format))\n",
    "        orders = pd.concat([prefix_df, orders])\n",
    "    if suffix is not None:\n",
    "        suffix_df = pd.read_csv(suffix, parse_dates=['TRANSACTTIME'], date_parser=lambda x: pd.to_datetime(x, format=CME_datetime_format))\n",
    "        orders = pd.concat([orders, suffix_df])\n",
    "    columns = ['TRANSACTTIME', 'PUBLIC_ORDER_ID', 'EXECTYPE', 'SIDE', 'PRICE', 'VISIBLEQTY']\n",
    "    df = orders[columns].reset_index().sort_values(['TRANSACTTIME', 'index']).set_index('TRANSACTTIME').iloc[:, 1:]\n",
    "    df['EXECTYPE'] = df['EXECTYPE'].apply(lambda x: 'Insert' if x ==0 else ('Amend' if x == 1 else 'Cancel'))\n",
    "    df['SIDE'] = df['SIDE'].apply(lambda x: 'Buy' if x == 0 else 'Sell')\n",
    "    df['PUBLIC_ORDER_ID'] = df['PUBLIC_ORDER_ID'].astype(str)\n",
    "    return df"
   ]
  },
  {
   "cell_type": "code",
   "execution_count": 18,
   "metadata": {},
   "outputs": [],
   "source": [
    "total_df = load_lit_orders(order_file, prefix=prefix_file, suffix=None)"
   ]
  },
  {
   "cell_type": "code",
   "execution_count": 19,
   "metadata": {},
   "outputs": [],
   "source": [
    "def get_unsettled_ord(total_df):\n",
    "    all_ids = set(total_df['PUBLIC_ORDER_ID'])\n",
    "    cancel_ids = set(total_df[total_df['EXECTYPE'] == 'Cancel']['PUBLIC_ORDER_ID'])\n",
    "    unsettled_ids = all_ids.difference(cancel_ids)\n",
    "    unsettled_df = total_df[total_df['PUBLIC_ORDER_ID'].isin(unsettled_ids)]\n",
    "    return unsettled_df\n",
    "\n",
    "\n",
    "def get_prefix_suffix_ords(unsettled_df, datestr, prefix=True):\n",
    "    dummy_exec = 0 if prefix else 2\n",
    "    ord_dict = {}\n",
    "    t_str = datestr + '223000000000001'\n",
    "    for _, row in unsettled_df.iterrows():\n",
    "        if row['EXECTYPE'] == 'Insert' or row['EXECTYPE'] == 'Amend':\n",
    "            ord_dict[row['PUBLIC_ORDER_ID']] = (t_str, row['PUBLIC_ORDER_ID'], symbol, dummy_exec, row['SIDE'], row['PRICE'], row['VISIBLEQTY'])\n",
    "        elif row['EXECTYPE'] == 'Cancel':\n",
    "            ord_dict.pop(row['PUBLIC_ORDER_ID'], None)\n",
    "    prefix_ord = np.transpose(pd.DataFrame(ord_dict, index=['TRANSACTTIME','PUBLIC_ORDER_ID','SYMBOL','EXECTYPE','SIDE','PRICE','VISIBLEQTY']))\n",
    "    prefix_ord['SIDE'] = prefix_ord['SIDE'].apply(lambda x: 0 if x == 'Buy' else 1)\n",
    "    return prefix_ord"
   ]
  },
  {
   "cell_type": "code",
   "execution_count": 20,
   "metadata": {},
   "outputs": [
    {
     "name": "stdout",
     "output_type": "stream",
     "text": [
      "Wall time: 297 ms\n"
     ]
    }
   ],
   "source": [
    "%%time\n",
    "unsettled_df = get_unsettled_ord(total_df)\n"
   ]
  },
  {
   "cell_type": "code",
   "execution_count": null,
   "metadata": {},
   "outputs": [],
   "source": []
  },
  {
   "cell_type": "code",
   "execution_count": 24,
   "metadata": {},
   "outputs": [],
   "source": [
    "prefix_ord = get_prefix_suffix_ords(unsettled_df, datestr, prefix=True)\n",
    "prefix_ord.to_csv(next_prefix_out, index=False)"
   ]
  },
  {
   "cell_type": "code",
   "execution_count": 25,
   "metadata": {},
   "outputs": [],
   "source": [
    "suffix_ord = get_prefix_suffix_ords(unsettled_df, datestr, prefix=False)\n",
    "suffix_ord.to_csv(suffix_file, index=False)"
   ]
  },
  {
   "cell_type": "code",
   "execution_count": null,
   "metadata": {},
   "outputs": [],
   "source": []
  },
  {
   "cell_type": "code",
   "execution_count": null,
   "metadata": {},
   "outputs": [],
   "source": []
  },
  {
   "cell_type": "code",
   "execution_count": null,
   "metadata": {},
   "outputs": [],
   "source": []
  },
  {
   "cell_type": "code",
   "execution_count": null,
   "metadata": {},
   "outputs": [],
   "source": []
  },
  {
   "cell_type": "code",
   "execution_count": null,
   "metadata": {},
   "outputs": [],
   "source": []
  },
  {
   "cell_type": "code",
   "execution_count": null,
   "metadata": {},
   "outputs": [],
   "source": []
  },
  {
   "cell_type": "code",
   "execution_count": null,
   "metadata": {},
   "outputs": [],
   "source": []
  },
  {
   "cell_type": "code",
   "execution_count": null,
   "metadata": {},
   "outputs": [],
   "source": []
  },
  {
   "cell_type": "code",
   "execution_count": null,
   "metadata": {},
   "outputs": [],
   "source": []
  },
  {
   "cell_type": "code",
   "execution_count": null,
   "metadata": {},
   "outputs": [],
   "source": []
  },
  {
   "cell_type": "code",
   "execution_count": null,
   "metadata": {},
   "outputs": [],
   "source": []
  },
  {
   "cell_type": "code",
   "execution_count": null,
   "metadata": {},
   "outputs": [],
   "source": []
  }
 ],
 "metadata": {
  "kernelspec": {
   "display_name": "Python 3 (ipykernel)",
   "language": "python",
   "name": "python3"
  },
  "language_info": {
   "codemirror_mode": {
    "name": "ipython",
    "version": 3
   },
   "file_extension": ".py",
   "mimetype": "text/x-python",
   "name": "python",
   "nbconvert_exporter": "python",
   "pygments_lexer": "ipython3",
   "version": "3.9.13"
  }
 },
 "nbformat": 4,
 "nbformat_minor": 2
}
