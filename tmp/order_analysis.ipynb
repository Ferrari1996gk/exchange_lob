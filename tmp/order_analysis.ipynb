{
 "cells": [
  {
   "cell_type": "code",
   "execution_count": 1,
   "metadata": {},
   "outputs": [
    {
     "data": {
      "text/html": [
       "<style>.container { width:100% !important; }</style>"
      ],
      "text/plain": [
       "<IPython.core.display.HTML object>"
      ]
     },
     "metadata": {},
     "output_type": "display_data"
    }
   ],
   "source": [
    "from IPython.display import display, HTML\n",
    "display(HTML(\"<style>.container { width:100% !important; }</style>\"))"
   ]
  },
  {
   "cell_type": "code",
   "execution_count": 2,
   "metadata": {},
   "outputs": [],
   "source": [
    "from datetime import datetime\n",
    "import numpy as np\n",
    "import pandas as pd\n",
    "import matplotlib.pyplot as plt\n",
    "CME_datetime_format = \"%Y%m%d%H%M%S%f\""
   ]
  },
  {
   "cell_type": "code",
   "execution_count": 3,
   "metadata": {},
   "outputs": [
    {
     "name": "stdout",
     "output_type": "stream",
     "text": [
      "C:/data/CME/2022/01/03/MBO/XCME/ESH2_orders.csv C:/data/CME/2022/01/03/MBO/XCME/ESH2_prefix.csv C:/data/CME/2022/01/03/MBO/XCME/ESH2_suffix.csv\n"
     ]
    }
   ],
   "source": [
    "symbol = 'ESH2'\n",
    "month = '01'\n",
    "day = '03'\n",
    "datestr = \"2022\"+month+day\n",
    "data_path = 'C:/data/CME/2022/%s/%s/MBO/XCME/'%(month, day)\n",
    "order_file = data_path + symbol + '_orders.csv'\n",
    "prefix_file = data_path + symbol + '_prefix.csv'\n",
    "suffix_file = data_path + symbol + '_suffix.csv'\n",
    "print(order_file, prefix_file, suffix_file)\n",
    "\n",
    "start = pd.to_datetime('{0} 13:00:00'.format(datestr))\n",
    "end = pd.to_datetime('{0} 21:00:00'.format(datestr))"
   ]
  },
  {
   "cell_type": "code",
   "execution_count": 4,
   "metadata": {},
   "outputs": [],
   "source": [
    "def load_lit_orders(order_file, prefix=None, suffix=None):\n",
    "    orders = pd.read_csv(order_file, parse_dates=['TRANSACTTIME'], date_parser=lambda x: pd.to_datetime(x, format=CME_datetime_format))\n",
    "    if prefix is not None:\n",
    "        prefix_df = pd.read_csv(prefix, parse_dates=['TRANSACTTIME'], date_parser=lambda x: pd.to_datetime(x, format=CME_datetime_format))\n",
    "        orders = pd.concat([prefix_df, orders])\n",
    "    if suffix is not None:\n",
    "        suffix_df = pd.read_csv(suffix, parse_dates=['TRANSACTTIME'], date_parser=lambda x: pd.to_datetime(x, format=CME_datetime_format))\n",
    "        orders = pd.concat([orders, suffix_df])\n",
    "    columns = ['TRANSACTTIME', 'PUBLIC_ORDER_ID', 'EXECTYPE', 'SIDE', 'PRICE', 'VISIBLEQTY']\n",
    "    df = orders[columns].reset_index().sort_values(['TRANSACTTIME', 'index']).set_index('TRANSACTTIME').iloc[:, 1:]\n",
    "    df['EXECTYPE'] = df['EXECTYPE'].apply(lambda x: 'Insert' if x ==0 else ('Amend' if x == 1 else 'Cancel'))\n",
    "    df['SIDE'] = df['SIDE'].apply(lambda x: 'Buy' if x == 0 else 'Sell')\n",
    "    df['PUBLIC_ORDER_ID'] = df['PUBLIC_ORDER_ID'].astype(str)\n",
    "    return df"
   ]
  },
  {
   "cell_type": "code",
   "execution_count": 5,
   "metadata": {},
   "outputs": [],
   "source": [
    "orders_df = load_lit_orders(order_file, prefix=prefix_file, suffix=None)\n",
    "orders_df = orders_df.loc[start:end]"
   ]
  },
  {
   "cell_type": "code",
   "execution_count": 6,
   "metadata": {},
   "outputs": [],
   "source": [
    "insert_df = orders_df[orders_df['EXECTYPE'] == 'Insert']\n",
    "insert_ = insert_df.reset_index()\n",
    "insert_['hour'] = insert_['TRANSACTTIME'].apply(lambda x: x.hour)\n",
    "insert_['minute'] = insert_['TRANSACTTIME'].apply(lambda x: x.minute)\n",
    "\n",
    "insert_['time_diff'] = insert_['TRANSACTTIME'].diff()\n",
    "insert_time_diff = insert_['time_diff'].dropna().values.astype('float64')\n",
    "len(insert_time_diff)\n",
    "\n",
    "buy_ = insert_[insert_['SIDE'] == 'Buy'].copy()\n",
    "buy_['time_diff'] = buy_['TRANSACTTIME'].diff()\n",
    "buy_time_diff = buy_['time_diff'].dropna().values.astype('float64')\n",
    "sell_ = insert_[insert_['SIDE'] == 'Sell'].copy()\n",
    "sell_['time_diff'] = sell_['TRANSACTTIME'].diff()\n",
    "sell_time_diff = sell_['time_diff'].dropna().values.astype('float64')"
   ]
  },
  {
   "cell_type": "code",
   "execution_count": 7,
   "metadata": {},
   "outputs": [
    {
     "data": {
      "text/plain": [
       "(9235951.820580717, 5094674902.0)"
      ]
     },
     "execution_count": 7,
     "metadata": {},
     "output_type": "execute_result"
    }
   ],
   "source": [
    "np.mean(insert_time_diff), np.max(insert_time_diff)"
   ]
  },
  {
   "cell_type": "code",
   "execution_count": 65,
   "metadata": {},
   "outputs": [
    {
     "data": {
      "text/html": [
       "<div>\n",
       "<style scoped>\n",
       "    .dataframe tbody tr th:only-of-type {\n",
       "        vertical-align: middle;\n",
       "    }\n",
       "\n",
       "    .dataframe tbody tr th {\n",
       "        vertical-align: top;\n",
       "    }\n",
       "\n",
       "    .dataframe thead th {\n",
       "        text-align: right;\n",
       "    }\n",
       "</style>\n",
       "<table border=\"1\" class=\"dataframe\">\n",
       "  <thead>\n",
       "    <tr style=\"text-align: right;\">\n",
       "      <th></th>\n",
       "      <th>TRANSACTTIME</th>\n",
       "      <th>PUBLIC_ORDER_ID</th>\n",
       "      <th>EXECTYPE</th>\n",
       "      <th>SIDE</th>\n",
       "      <th>PRICE</th>\n",
       "      <th>VISIBLEQTY</th>\n",
       "      <th>time_diff</th>\n",
       "      <th>hour</th>\n",
       "      <th>minute</th>\n",
       "      <th>float_time_diff</th>\n",
       "    </tr>\n",
       "  </thead>\n",
       "  <tbody>\n",
       "    <tr>\n",
       "      <th>2687267</th>\n",
       "      <td>2022-01-03 19:36:40.230025935</td>\n",
       "      <td>649200912501</td>\n",
       "      <td>Insert</td>\n",
       "      <td>Sell</td>\n",
       "      <td>477725.0</td>\n",
       "      <td>1</td>\n",
       "      <td>0 days 00:00:00</td>\n",
       "      <td>19</td>\n",
       "      <td>36</td>\n",
       "      <td>NaN</td>\n",
       "    </tr>\n",
       "    <tr>\n",
       "      <th>1542945</th>\n",
       "      <td>2022-01-03 15:52:28.035622787</td>\n",
       "      <td>649199355455</td>\n",
       "      <td>Insert</td>\n",
       "      <td>Sell</td>\n",
       "      <td>477100.0</td>\n",
       "      <td>1</td>\n",
       "      <td>0 days 00:00:00</td>\n",
       "      <td>15</td>\n",
       "      <td>52</td>\n",
       "      <td>NaN</td>\n",
       "    </tr>\n",
       "    <tr>\n",
       "      <th>1542948</th>\n",
       "      <td>2022-01-03 15:52:28.035636075</td>\n",
       "      <td>649199355458</td>\n",
       "      <td>Insert</td>\n",
       "      <td>Sell</td>\n",
       "      <td>477100.0</td>\n",
       "      <td>2</td>\n",
       "      <td>0 days 00:00:00</td>\n",
       "      <td>15</td>\n",
       "      <td>52</td>\n",
       "      <td>NaN</td>\n",
       "    </tr>\n",
       "    <tr>\n",
       "      <th>1547301</th>\n",
       "      <td>2022-01-03 15:53:02.390161899</td>\n",
       "      <td>649199361243</td>\n",
       "      <td>Insert</td>\n",
       "      <td>Sell</td>\n",
       "      <td>477075.0</td>\n",
       "      <td>1</td>\n",
       "      <td>0 days 00:00:00</td>\n",
       "      <td>15</td>\n",
       "      <td>53</td>\n",
       "      <td>NaN</td>\n",
       "    </tr>\n",
       "    <tr>\n",
       "      <th>1542949</th>\n",
       "      <td>2022-01-03 15:52:28.035636075</td>\n",
       "      <td>649199355459</td>\n",
       "      <td>Insert</td>\n",
       "      <td>Sell</td>\n",
       "      <td>477100.0</td>\n",
       "      <td>1</td>\n",
       "      <td>0 days 00:00:00</td>\n",
       "      <td>15</td>\n",
       "      <td>52</td>\n",
       "      <td>NaN</td>\n",
       "    </tr>\n",
       "    <tr>\n",
       "      <th>...</th>\n",
       "      <td>...</td>\n",
       "      <td>...</td>\n",
       "      <td>...</td>\n",
       "      <td>...</td>\n",
       "      <td>...</td>\n",
       "      <td>...</td>\n",
       "      <td>...</td>\n",
       "      <td>...</td>\n",
       "      <td>...</td>\n",
       "      <td>...</td>\n",
       "    </tr>\n",
       "    <tr>\n",
       "      <th>5957</th>\n",
       "      <td>2022-01-03 13:08:57.678130137</td>\n",
       "      <td>649197180298</td>\n",
       "      <td>Insert</td>\n",
       "      <td>Sell</td>\n",
       "      <td>478400.0</td>\n",
       "      <td>2</td>\n",
       "      <td>0 days 00:00:04.108689546</td>\n",
       "      <td>13</td>\n",
       "      <td>8</td>\n",
       "      <td>4.108690e+09</td>\n",
       "    </tr>\n",
       "    <tr>\n",
       "      <th>12602</th>\n",
       "      <td>2022-01-03 13:17:34.468875825</td>\n",
       "      <td>649197190765</td>\n",
       "      <td>Insert</td>\n",
       "      <td>Sell</td>\n",
       "      <td>478475.0</td>\n",
       "      <td>1</td>\n",
       "      <td>0 days 00:00:04.201599924</td>\n",
       "      <td>13</td>\n",
       "      <td>17</td>\n",
       "      <td>4.201600e+09</td>\n",
       "    </tr>\n",
       "    <tr>\n",
       "      <th>34186</th>\n",
       "      <td>2022-01-03 13:40:40.945452317</td>\n",
       "      <td>649197223853</td>\n",
       "      <td>Insert</td>\n",
       "      <td>Sell</td>\n",
       "      <td>478250.0</td>\n",
       "      <td>1</td>\n",
       "      <td>0 days 00:00:04.225482356</td>\n",
       "      <td>13</td>\n",
       "      <td>40</td>\n",
       "      <td>4.225482e+09</td>\n",
       "    </tr>\n",
       "    <tr>\n",
       "      <th>33953</th>\n",
       "      <td>2022-01-03 13:40:19.490955141</td>\n",
       "      <td>649197223463</td>\n",
       "      <td>Insert</td>\n",
       "      <td>Buy</td>\n",
       "      <td>478250.0</td>\n",
       "      <td>1</td>\n",
       "      <td>0 days 00:00:05.094674902</td>\n",
       "      <td>13</td>\n",
       "      <td>40</td>\n",
       "      <td>5.094675e+09</td>\n",
       "    </tr>\n",
       "    <tr>\n",
       "      <th>0</th>\n",
       "      <td>2022-01-03 13:00:00.002302153</td>\n",
       "      <td>649197170432</td>\n",
       "      <td>Insert</td>\n",
       "      <td>Sell</td>\n",
       "      <td>478450.0</td>\n",
       "      <td>1</td>\n",
       "      <td>NaT</td>\n",
       "      <td>13</td>\n",
       "      <td>0</td>\n",
       "      <td>NaN</td>\n",
       "    </tr>\n",
       "  </tbody>\n",
       "</table>\n",
       "<p>3118250 rows × 10 columns</p>\n",
       "</div>"
      ],
      "text/plain": [
       "                         TRANSACTTIME PUBLIC_ORDER_ID EXECTYPE  SIDE  \\\n",
       "2687267 2022-01-03 19:36:40.230025935    649200912501   Insert  Sell   \n",
       "1542945 2022-01-03 15:52:28.035622787    649199355455   Insert  Sell   \n",
       "1542948 2022-01-03 15:52:28.035636075    649199355458   Insert  Sell   \n",
       "1547301 2022-01-03 15:53:02.390161899    649199361243   Insert  Sell   \n",
       "1542949 2022-01-03 15:52:28.035636075    649199355459   Insert  Sell   \n",
       "...                               ...             ...      ...   ...   \n",
       "5957    2022-01-03 13:08:57.678130137    649197180298   Insert  Sell   \n",
       "12602   2022-01-03 13:17:34.468875825    649197190765   Insert  Sell   \n",
       "34186   2022-01-03 13:40:40.945452317    649197223853   Insert  Sell   \n",
       "33953   2022-01-03 13:40:19.490955141    649197223463   Insert   Buy   \n",
       "0       2022-01-03 13:00:00.002302153    649197170432   Insert  Sell   \n",
       "\n",
       "            PRICE  VISIBLEQTY                 time_diff  hour  minute  \\\n",
       "2687267  477725.0           1           0 days 00:00:00    19      36   \n",
       "1542945  477100.0           1           0 days 00:00:00    15      52   \n",
       "1542948  477100.0           2           0 days 00:00:00    15      52   \n",
       "1547301  477075.0           1           0 days 00:00:00    15      53   \n",
       "1542949  477100.0           1           0 days 00:00:00    15      52   \n",
       "...           ...         ...                       ...   ...     ...   \n",
       "5957     478400.0           2 0 days 00:00:04.108689546    13       8   \n",
       "12602    478475.0           1 0 days 00:00:04.201599924    13      17   \n",
       "34186    478250.0           1 0 days 00:00:04.225482356    13      40   \n",
       "33953    478250.0           1 0 days 00:00:05.094674902    13      40   \n",
       "0        478450.0           1                       NaT    13       0   \n",
       "\n",
       "         float_time_diff  \n",
       "2687267              NaN  \n",
       "1542945              NaN  \n",
       "1542948              NaN  \n",
       "1547301              NaN  \n",
       "1542949              NaN  \n",
       "...                  ...  \n",
       "5957        4.108690e+09  \n",
       "12602       4.201600e+09  \n",
       "34186       4.225482e+09  \n",
       "33953       5.094675e+09  \n",
       "0                    NaN  \n",
       "\n",
       "[3118250 rows x 10 columns]"
      ]
     },
     "execution_count": 65,
     "metadata": {},
     "output_type": "execute_result"
    }
   ],
   "source": [
    "insert_.sort_values('time_diff')"
   ]
  },
  {
   "cell_type": "code",
   "execution_count": 105,
   "metadata": {},
   "outputs": [
    {
     "data": {
      "text/plain": [
       "<matplotlib.axes._subplots.AxesSubplot at 0x1e125c0c438>"
      ]
     },
     "execution_count": 105,
     "metadata": {},
     "output_type": "execute_result"
    },
    {
     "data": {
      "image/png": "[encoded data removed]",
      "text/plain": [
       "<Figure size 432x288 with 1 Axes>"
      ]
     },
     "metadata": {
      "needs_background": "light"
     },
     "output_type": "display_data"
    }
   ],
   "source": [
    "insert_.set_index('TRANSACTTIME').loc['2022-01-03 13:40']['PRICE'].plot(style='.')"
   ]
  },
  {
   "cell_type": "code",
   "execution_count": 76,
   "metadata": {},
   "outputs": [
    {
     "data": {
      "text/plain": [
       "<matplotlib.axes._subplots.AxesSubplot at 0x1e125865208>"
      ]
     },
     "execution_count": 76,
     "metadata": {},
     "output_type": "execute_result"
    },
    {
     "data": {
      "image/png": "[encoded data removed]",
      "text/plain": [
       "<Figure size 432x288 with 1 Axes>"
      ]
     },
     "metadata": {
      "needs_background": "light"
     },
     "output_type": "display_data"
    }
   ],
   "source": [
    "pd.Series(np.sort(insert_time_diff)).plot(logy=True)"
   ]
  },
  {
   "cell_type": "code",
   "execution_count": 78,
   "metadata": {},
   "outputs": [
    {
     "data": {
      "text/plain": [
       "46936091.20000002"
      ]
     },
     "execution_count": 78,
     "metadata": {},
     "output_type": "execute_result"
    }
   ],
   "source": [
    "# keep the 99 quantile\n",
    "np.quantile(insert_time_diff, 0.95)"
   ]
  },
  {
   "cell_type": "code",
   "execution_count": 98,
   "metadata": {},
   "outputs": [
    {
     "data": {
      "text/plain": [
       "<matplotlib.axes._subplots.AxesSubplot at 0x1e1b7315cf8>"
      ]
     },
     "execution_count": 98,
     "metadata": {},
     "output_type": "execute_result"
    },
    {
     "data": {
      "image/png": "[encoded data removed]",
      "text/plain": [
       "<Figure size 432x288 with 1 Axes>"
      ]
     },
     "metadata": {
      "needs_background": "light"
     },
     "output_type": "display_data"
    }
   ],
   "source": [
    "pd.Series(insert_time_diff.round(-3)/1e3).value_counts().sort_index().loc[70:250].plot(logy=True, style='.', grid=True)"
   ]
  },
  {
   "cell_type": "code",
   "execution_count": 8,
   "metadata": {},
   "outputs": [
    {
     "data": {
      "text/plain": [
       "array([0.027106, 0.117726, 2.159146])"
      ]
     },
     "execution_count": 8,
     "metadata": {},
     "output_type": "execute_result"
    }
   ],
   "source": [
    "np.quantile(insert_time_diff, [0.25, 0.5, 0.75])*1e-6"
   ]
  },
  {
   "cell_type": "code",
   "execution_count": 99,
   "metadata": {},
   "outputs": [
    {
     "data": {
      "image/png": "[encoded data removed]",
      "text/plain": [
       "<Figure size 1440x288 with 3 Axes>"
      ]
     },
     "metadata": {
      "needs_background": "light"
     },
     "output_type": "display_data"
    }
   ],
   "source": [
    "fig, ax = plt.subplots(1, 3, figsize=(20, 4), sharey=True)\n",
    "bins = np.linspace(0, 1000000, 1001)\n",
    "\n",
    "ax[0].hist(insert_time_diff, bins=bins)\n",
    "ax[0].set_ylim((0, 2500))\n",
    "ax[0].set_title('Histgram of time gap between successive new order')\n",
    "ax[0].set_xlabel('nanoseconds', size=14)\n",
    "\n",
    "ax[1].hist(buy_time_diff, bins=bins)\n",
    "ax[1].set_title('Histgram of time gap between successive new buy order')\n",
    "ax[1].set_xlabel('nanoseconds', size=14)\n",
    "\n",
    "ax[2].hist(sell_time_diff, bins=bins)\n",
    "ax[2].set_title('Histgram of time gap between successive new sell order')\n",
    "ax[2].set_xlabel('nanoseconds', size=14)\n",
    "\n",
    "plt.show()"
   ]
  },
  {
   "cell_type": "code",
   "execution_count": 10,
   "metadata": {},
   "outputs": [],
   "source": [
    "# average gap aross every minute"
   ]
  },
  {
   "cell_type": "code",
   "execution_count": 48,
   "metadata": {},
   "outputs": [],
   "source": [
    "insert_['float_time_diff'] = insert_['time_diff'].fillna(pd.Timedelta(seconds=0)).values.astype('float64')\n",
    "insert_.loc[insert_['float_time_diff'] == 0., 'float_time_diff'] = np.nan\n",
    "hourly_gap = insert_.groupby('hour')['float_time_diff'].mean() / 1e6\n",
    "minutely_gap = insert_.groupby(['hour', 'minute'])['float_time_diff'].mean() / 1e6"
   ]
  },
  {
   "cell_type": "code",
   "execution_count": 56,
   "metadata": {},
   "outputs": [
    {
     "data": {
      "text/plain": [
       "Text(0.5, 0, 'minutes')"
      ]
     },
     "execution_count": 56,
     "metadata": {},
     "output_type": "execute_result"
    },
    {
     "data": {
      "image/png": "[encoded data removed]",
      "text/plain": [
       "<Figure size 720x360 with 1 Axes>"
      ]
     },
     "metadata": {
      "needs_background": "light"
     },
     "output_type": "display_data"
    }
   ],
   "source": [
    "fig, ax = plt.subplots(1, 1, figsize=(10, 5))\n",
    "ax.plot(minutely_gap.values)\n",
    "ax.set_title('Average gap between new order insert event')\n",
    "ax.set_xlabel('minutes', size=14)"
   ]
  },
  {
   "cell_type": "code",
   "execution_count": null,
   "metadata": {},
   "outputs": [],
   "source": []
  },
  {
   "cell_type": "code",
   "execution_count": 11,
   "metadata": {},
   "outputs": [],
   "source": [
    "duration = pd.read_pickle('order_duration.pkl')\n",
    "duration = duration[(duration['START'] > start) & (duration['END'] < end)]\n",
    "duration['duration'] = duration['END'] - duration['START']\n",
    "all_duration = duration['duration'].values.astype('float64')\n",
    "b_duration = duration[duration['SIDE'] == 'Buy']['duration'].values.astype('float64')\n",
    "s_duration = duration[duration['SIDE'] == 'Sell']['duration'].values.astype('float64')"
   ]
  },
  {
   "cell_type": "code",
   "execution_count": 12,
   "metadata": {},
   "outputs": [
    {
     "data": {
      "text/plain": [
       "(array([   8.362631,   90.238061, 1001.352092]), 44538396726.95825)"
      ]
     },
     "execution_count": 12,
     "metadata": {},
     "output_type": "execute_result"
    }
   ],
   "source": [
    "np.quantile(all_duration, [0.25, 0.5, 0.75])*1e-6, np.mean(all_duration)"
   ]
  },
  {
   "cell_type": "code",
   "execution_count": 13,
   "metadata": {},
   "outputs": [
    {
     "data": {
      "image/png": "[encoded data removed]",
      "text/plain": [
       "<Figure size 1440x288 with 3 Axes>"
      ]
     },
     "metadata": {
      "needs_background": "light"
     },
     "output_type": "display_data"
    }
   ],
   "source": [
    "fig, ax = plt.subplots(1, 3, figsize=(20, 4), sharey=True)\n",
    "bins = np.linspace(0, 1e6, 1001)\n",
    "\n",
    "ax[0].hist(all_duration, bins=bins)\n",
    "# ax[0].set_ylim((0, 6000))\n",
    "ax[0].set_title('Histgram of order duration')\n",
    "ax[0].set_xlabel('nanoseconds', size=14)\n",
    "\n",
    "ax[1].hist(b_duration, bins=bins)\n",
    "ax[1].set_title('Histgram of buy order duration')\n",
    "ax[1].set_xlabel('nanoseconds', size=14)\n",
    "\n",
    "ax[2].hist(s_duration, bins=bins)\n",
    "ax[2].set_title('Histgram of sell order duration')\n",
    "ax[2].set_xlabel('nanoseconds', size=14)\n",
    "\n",
    "plt.show()"
   ]
  },
  {
   "cell_type": "code",
   "execution_count": null,
   "metadata": {},
   "outputs": [],
   "source": []
  },
  {
   "cell_type": "code",
   "execution_count": null,
   "metadata": {},
   "outputs": [],
   "source": [
    "# https://www.bankofengland.co.uk/prudential-regulation/publication/2022/june/model-risk-management-principles-for-banks\n",
    "# electronic trading risk principle and federal"
   ]
  }
 ],
 "metadata": {
  "kernelspec": {
   "display_name": "Python 3",
   "language": "python",
   "name": "python3"
  },
  "language_info": {
   "codemirror_mode": {
    "name": "ipython",
    "version": 3
   },
   "file_extension": ".py",
   "mimetype": "text/x-python",
   "name": "python",
   "nbconvert_exporter": "python",
   "pygments_lexer": "ipython3",
   "version": "3.6.4"
  }
 },
 "nbformat": 4,
 "nbformat_minor": 2
}
