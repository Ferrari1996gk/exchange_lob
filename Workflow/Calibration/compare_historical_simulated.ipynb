{
 "cells": [
  {
   "cell_type": "code",
   "execution_count": 7,
   "metadata": {},
   "outputs": [],
   "source": [
    "import pandas as pd\n",
    "import matplotlib.pyplot as plt\n",
    "import numpy as np\n",
    "from matplotlib import cm\n",
    "import json\n",
    "from scipy.stats import kurtosis, skew, ks_2samp\n",
    "from statsmodels.tsa.stattools import acf\n",
    "turquoise_datetime_format = \"%d-%b-%Y %H:%M:%S.%f\""
   ]
  },
  {
   "cell_type": "markdown",
   "metadata": {},
   "source": [
    "## Functions"
   ]
  },
  {
   "cell_type": "code",
   "execution_count": 8,
   "metadata": {},
   "outputs": [],
   "source": [
    "def get_synthetic_market_data(data_path, tick_size=.02):\n",
    "    df_lob_l1 = pd.read_csv('{0}/lob_l1.csv'.format(data_path)).set_index('time')\n",
    "    df_lob_l1.index = pd.to_datetime(df_lob_l1.index, format=turquoise_datetime_format)\n",
    "\n",
    "    l1B = df_lob_l1[df_lob_l1['side']  == 'B']\n",
    "    l1S = df_lob_l1[df_lob_l1['side']  == 'S']\n",
    "    \n",
    "    mp = .5 * l1B['prc'] + .5 * l1S['prc']\n",
    "    spread = l1S['prc'] - l1B['prc']\n",
    "    spread = np.round(spread.fillna(method='ffill').fillna(method='bfill') / tick_size).dropna().astype(int)\n",
    "    \n",
    "    orders = pd.read_csv('{0}/orders.csv'.format(data_path)).set_index('time')\n",
    "    orders.index = pd.to_datetime(orders.index, format=turquoise_datetime_format)\n",
    "    \n",
    "    b0 = l1B['prc'].shift(1)\n",
    "    a0 = l1S['prc'].shift(1)\n",
    "    depth_b = np.round((b0.reindex(orders.index) - orders['prc']) / tick_size)\n",
    "    depth_a = np.round((orders['prc'] - a0.reindex(orders.index)) / tick_size)\n",
    "\n",
    "    orders.loc[:,'depth'] = ((orders['side'] == 'B') * depth_b + (orders['side'] == 'S') * depth_a).values\n",
    "    \n",
    "    trades = pd.read_csv('{0}/trades.csv'.format(data_path)).set_index('time')\n",
    "    trades.index = pd.to_datetime(trades.index, format=turquoise_datetime_format)\n",
    "    md = {'l1B': l1B, 'l1S': l1S, 'mp': mp, 'spread': spread, 'orders': orders, 'trades': trades, 'a0': a0, 'b0': b0}\n",
    "    return md\n",
    "\n",
    "def get_fv_mv_value(data_path):\n",
    "    fv = pd.read_csv('{0}/fundamental_value.csv'.format(data_path)).set_index('timestamp')\n",
    "    fv.index = pd.to_datetime(fv.index, format=turquoise_datetime_format).floor('S')\n",
    "    mv = pd.read_csv('{0}/momentum_value.csv'.format(data_path)).set_index('timestamp')\n",
    "    mv.index = pd.to_datetime(mv.index, format=turquoise_datetime_format).floor('S')\n",
    "    return fv.squeeze(), mv.squeeze()\n",
    "\n",
    "# Distance Calculation\n",
    "# Volatility\n",
    "def sec_volatility_diff(ret1, ret2):\n",
    "    return np.abs(ret1.std() - ret2.std())\n",
    "# Autocorrelation diff\n",
    "# For return first order acf, use small lags\n",
    "def acf_diff(data1, data2, nlags):\n",
    "    acf1 = acf(data1, nlags=nlags, fft=True)\n",
    "    acf2 = acf(data2, nlags=nlags, fft=True)\n",
    "    diff = acf1 - acf2\n",
    "    return np.sum(np.abs(diff)) / (len(diff)-1)\n",
    "\n",
    "def compute_distance(simulated, historical, ret1_lag=5, ret2_lag=20, bs_lag=10, mo_lag=10):\n",
    "    ret_s, ret_h = simulated['ret'], historical['ret']\n",
    "    vol_diff = sec_volatility_diff(ret_s, ret_h)\n",
    "    cdf_ks = ks_2samp(ret_s, ret_h).statistic\n",
    "    ret1_acf_diff = acf_diff(ret_s, ret_h, nlags=ret1_lag)\n",
    "    ret2_acf_diff = acf_diff(ret_s**2, ret_h**2, nlags=ret2_lag)\n",
    "    bs_series_s, bs_series_h = simulated['bs_series'], historical['bs_series']\n",
    "    mo_series_s, mo_series_h = simulated['mo_series'], historical['mo_series']\n",
    "    bs_acf_diff = acf_diff(bs_series_s, bs_series_h, nlags=bs_lag)\n",
    "    mo_acf_diff = acf_diff(mo_series_s, mo_series_h, nlags=mo_lag)\n",
    "    return vol_diff, cdf_ks, ret1_acf_diff, ret2_acf_diff, bs_acf_diff, mo_acf_diff\n"
   ]
  },
  {
   "cell_type": "markdown",
   "metadata": {},
   "source": [
    "# High level config"
   ]
  },
  {
   "cell_type": "code",
   "execution_count": 9,
   "metadata": {},
   "outputs": [
    {
     "name": "stdout",
     "output_type": "stream",
     "text": [
      "20210128\n"
     ]
    }
   ],
   "source": [
    "symbol = 'VODl'\n",
    "mic = 'XLON'\n",
    "tick_size = .02\n",
    "datestr = '20210128'\n",
    "start = pd.to_datetime(datestr + ' 08:02:00')\n",
    "end = pd.to_datetime(datestr + ' 16:29:00')\n",
    "print(datestr)"
   ]
  },
  {
   "cell_type": "markdown",
   "metadata": {},
   "source": [
    "## Historical data"
   ]
  },
  {
   "cell_type": "code",
   "execution_count": 10,
   "metadata": {},
   "outputs": [],
   "source": [
    "from analytics.trqx.turquoise_exchange import get_trades, get_orders, get_market_data\n",
    "cloud_path = \"D:/Simudyne Limited/Data - LSE Market Data\"\n",
    "lit_path = '{0}/{1}'.format(cloud_path,  'L2/data-x.londonstockexchange.com/data-x/TRQX')\n",
    "lob_path = '{0}/{1}'.format(cloud_path,  'LOB')\n",
    "md = get_market_data(lit_path, lob_path, symbol, mic, pd.to_datetime(datestr), tick_size, include_l2=True)\n",
    "l1 = md['l1']\n",
    "h_depth = l1[l1['side'] == 'S'].depth + l1[l1['side'] == 'B'].depth\n",
    "b0 = l1[l1['side'] == 'B'].prc.round(2)\n",
    "a0 = l1[l1['side'] == 'S'].prc.round(2)\n",
    "raw_mid = ((a0 + b0) / 2.).dropna().loc[start:end]\n",
    "min_mid = raw_mid.resample('1min').apply(lambda i: i[-1] if len(i) > 0 else np.nan).fillna(method='ffill').dropna()\n",
    "mid = raw_mid.resample('1S').apply(lambda i: i[-1] if len(i) > 0 else np.nan).fillna(method='ffill').dropna()\n",
    "ret_h = (mid.values[1:] / mid.values[:-1] - 1) * 10000\n",
    "market_orders = md['market_orders']\n",
    "mo_sign = market_orders['SIDE'].apply(lambda x: 1 if x=='Buy' else -1)\n",
    "h_orders = md['orders']\n",
    "real_orders = h_orders.dropna().copy()\n",
    "real_orders = real_orders[(real_orders['EXECTYPE']=='Insert') | (real_orders['EXECTYPE']=='Cancel')] # whether includr 'M'\n",
    "real_orders['tmp1'] = real_orders['SIDE'].apply(lambda x: 1 if x=='Buy' else -1)\n",
    "real_orders['tmp2'] = real_orders['EXECTYPE'].apply(lambda x: -1 if x=='Cancel' else 1)\n",
    "real_orders['pressure'] = real_orders['tmp1'] * real_orders['tmp2']\n",
    "real_p_series = real_orders['pressure']\n",
    "historical = {'ret': ret_h, 'bs_series': real_p_series, 'mo_series': mo_sign}"
   ]
  },
  {
   "cell_type": "code",
   "execution_count": null,
   "metadata": {},
   "outputs": [],
   "source": []
  },
  {
   "cell_type": "markdown",
   "metadata": {},
   "source": [
    "## Simulated data"
   ]
  },
  {
   "cell_type": "code",
   "execution_count": 14,
   "metadata": {},
   "outputs": [],
   "source": [
    "data_path = 'MultipleRun/Results/run_00000'\n",
    "def get_simulated(data_path, tick_size, start, end):\n",
    "    md = get_synthetic_market_data(data_path, tick_size=tick_size)\n",
    "    l1B, l1S, raw_mp, spread, orders, trades = md['l1B'], md['l1S'], md['mp'], md['spread'], md['orders'], md['trades']\n",
    "    raw_mp = raw_mp.dropna().loc[start:end]\n",
    "    min_mp = raw_mp.resample('1min').apply(lambda i: i[-1] if len(i) > 0 else np.nan).fillna(method='ffill').dropna()\n",
    "    mp = raw_mp.resample('1S').apply(lambda i: i[-1] if len(i) > 0 else np.nan).fillna(method='ffill').dropna()\n",
    "    ret_s = (mp.values[1:] / mp.values[:-1] - 1) * 10000\n",
    "    # fv, mv = get_fv_mv_value(data_path)\n",
    "    # distortion = mp - fv\n",
    "    # Orders autocorrelation analysis\n",
    "    orders_data = orders.copy()\n",
    "    orders_data['tmp1'] = orders_data['side'].apply(lambda x: 1 if x=='B' else -1)\n",
    "    orders_data['tmp2'] = orders_data['OrdType'].apply(lambda x: -1 if x=='C' else 1)\n",
    "    orders_data['pressure'] = orders_data['tmp1'] * orders_data['tmp2']\n",
    "\n",
    "    p_series = orders_data[(orders_data['pressure']!=0) & (orders_data['OrdType']!='M')]['pressure']\n",
    "    # market order autocorrelation\n",
    "    mo_series_s = orders_data[orders_data['OrdType'] == 'M']['pressure']\n",
    "    simulated = {'ret': ret_s, 'bs_series': p_series, 'mo_series': mo_series_s}\n",
    "    return simulated"
   ]
  },
  {
   "cell_type": "code",
   "execution_count": 15,
   "metadata": {},
   "outputs": [
    {
     "name": "stdout",
     "output_type": "stream",
     "text": [
      "MultipleRun/Results/run_00000\n",
      "vol_diff: 0.058, cdf_ks_dist: 0.092, ret1_acf_diff: 0.059, ret2_acf_diff: 0.086, bs_acf_diff: 0.056, mo_acf_diff: 0.067\n",
      "Total distance: 0.4187617096\n",
      "MultipleRun/Results/run_00001\n",
      "vol_diff: 0.046, cdf_ks_dist: 0.090, ret1_acf_diff: 0.054, ret2_acf_diff: 0.086, bs_acf_diff: 0.054, mo_acf_diff: 0.087\n",
      "Total distance: 0.4183763499\n",
      "MultipleRun/Results/run_00002\n",
      "vol_diff: 0.090, cdf_ks_dist: 0.088, ret1_acf_diff: 0.048, ret2_acf_diff: 0.086, bs_acf_diff: 0.055, mo_acf_diff: 0.081\n",
      "Total distance: 0.4494858584\n",
      "MultipleRun/Results/run_00003\n",
      "vol_diff: 0.188, cdf_ks_dist: 0.095, ret1_acf_diff: 0.059, ret2_acf_diff: 0.088, bs_acf_diff: 0.056, mo_acf_diff: 0.079\n",
      "Total distance: 0.5645711147\n",
      "MultipleRun/Results/run_00004\n",
      "vol_diff: 0.061, cdf_ks_dist: 0.092, ret1_acf_diff: 0.052, ret2_acf_diff: 0.080, bs_acf_diff: 0.060, mo_acf_diff: 0.067\n",
      "Total distance: 0.4132819778\n",
      "MultipleRun/Results/run_00005\n",
      "vol_diff: 0.025, cdf_ks_dist: 0.088, ret1_acf_diff: 0.053, ret2_acf_diff: 0.076, bs_acf_diff: 0.057, mo_acf_diff: 0.077\n",
      "Total distance: 0.3756681543\n",
      "MultipleRun/Results/run_00006\n",
      "vol_diff: 0.085, cdf_ks_dist: 0.093, ret1_acf_diff: 0.054, ret2_acf_diff: 0.084, bs_acf_diff: 0.056, mo_acf_diff: 0.066\n",
      "Total distance: 0.4376683039\n",
      "MultipleRun/Results/run_00007\n",
      "vol_diff: 0.010, cdf_ks_dist: 0.091, ret1_acf_diff: 0.049, ret2_acf_diff: 0.077, bs_acf_diff: 0.058, mo_acf_diff: 0.090\n",
      "Total distance: 0.3752388776\n",
      "MultipleRun/Results/run_00008\n",
      "vol_diff: 0.153, cdf_ks_dist: 0.091, ret1_acf_diff: 0.056, ret2_acf_diff: 0.089, bs_acf_diff: 0.059, mo_acf_diff: 0.064\n",
      "Total distance: 0.5112662432\n",
      "MultipleRun/Results/run_00009\n",
      "vol_diff: 0.052, cdf_ks_dist: 0.091, ret1_acf_diff: 0.058, ret2_acf_diff: 0.082, bs_acf_diff: 0.059, mo_acf_diff: 0.064\n",
      "Total distance: 0.4065569092\n"
     ]
    }
   ],
   "source": [
    "for i in range(10):\n",
    "    data_path = 'MultipleRun/Results/run_0000' + str(i)\n",
    "    print(data_path)\n",
    "    simulated = get_simulated(data_path, tick_size, start, end)\n",
    "    dist = compute_distance(simulated, historical, ret1_lag=3, ret2_lag=10, bs_lag=5, mo_lag=10)\n",
    "    vol_diff, cdf_ks_dist, ret1_acf_diff, ret2_acf_diff, bs_acf_diff, mo_acf_diff = dist\n",
    "    print(\"vol_diff: %.3f, cdf_ks_dist: %.3f, ret1_acf_diff: %.3f, ret2_acf_diff: %.3f, bs_acf_diff: %.3f, mo_acf_diff: %.3f\"\\\n",
    "          %(vol_diff, cdf_ks_dist, ret1_acf_diff, ret2_acf_diff, bs_acf_diff, mo_acf_diff))\n",
    "    print(\"Total distance: %.10f\"%np.sum(dist))"
   ]
  },
  {
   "cell_type": "code",
   "execution_count": null,
   "metadata": {},
   "outputs": [],
   "source": []
  },
  {
   "cell_type": "code",
   "execution_count": null,
   "metadata": {},
   "outputs": [],
   "source": []
  },
  {
   "cell_type": "code",
   "execution_count": null,
   "metadata": {},
   "outputs": [],
   "source": []
  }
 ],
 "metadata": {
  "kernelspec": {
   "display_name": "PyCharm (chiarella-abm)",
   "language": "python",
   "name": "pycharm-4e84fde5"
  },
  "language_info": {
   "codemirror_mode": {
    "name": "ipython",
    "version": 3
   },
   "file_extension": ".py",
   "mimetype": "text/x-python",
   "name": "python",
   "nbconvert_exporter": "python",
   "pygments_lexer": "ipython3",
   "version": "3.6.4"
  }
 },
 "nbformat": 4,
 "nbformat_minor": 2
}
